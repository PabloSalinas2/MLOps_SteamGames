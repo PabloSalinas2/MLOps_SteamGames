{
 "cells": [
  {
   "cell_type": "markdown",
   "metadata": {},
   "source": [
    "### **Funciones**"
   ]
  },
  {
   "cell_type": "markdown",
   "metadata": {},
   "source": [
    "Este Notebook tiene como objetivo crear pequeños DataSets a partir de los datos procesados, con la finalidad de optimizar el trabajo de las funciones y evitar problemas de memoria en render."
   ]
  },
  {
   "cell_type": "markdown",
   "metadata": {},
   "source": [
    "#### **Librerias**"
   ]
  },
  {
   "cell_type": "code",
   "execution_count": 73,
   "metadata": {},
   "outputs": [],
   "source": [
    "import pandas as pd"
   ]
  },
  {
   "cell_type": "markdown",
   "metadata": {},
   "source": [
    "#### **Extracción y lectura de datos preparados**"
   ]
  },
  {
   "cell_type": "code",
   "execution_count": 140,
   "metadata": {},
   "outputs": [],
   "source": [
    "# lectura de archivos \n",
    "df_steam_games=pd.read_csv('ETL/steam_games.csv')\n",
    "df_user_items=pd.read_csv('ETL/user_items.csv')\n",
    "df_user_reviews=pd.read_csv('ETL/user_reviews.csv')"
   ]
  },
  {
   "cell_type": "code",
   "execution_count": 141,
   "metadata": {},
   "outputs": [
    {
     "data": {
      "text/html": [
       "<div>\n",
       "<style scoped>\n",
       "    .dataframe tbody tr th:only-of-type {\n",
       "        vertical-align: middle;\n",
       "    }\n",
       "\n",
       "    .dataframe tbody tr th {\n",
       "        vertical-align: top;\n",
       "    }\n",
       "\n",
       "    .dataframe thead th {\n",
       "        text-align: right;\n",
       "    }\n",
       "</style>\n",
       "<table border=\"1\" class=\"dataframe\">\n",
       "  <thead>\n",
       "    <tr style=\"text-align: right;\">\n",
       "      <th></th>\n",
       "      <th>publisher</th>\n",
       "      <th>genero</th>\n",
       "      <th>title</th>\n",
       "      <th>fecha_lanzamiento</th>\n",
       "      <th>price</th>\n",
       "      <th>early_access</th>\n",
       "      <th>id_juego</th>\n",
       "      <th>developer</th>\n",
       "      <th>año_lanzamiento</th>\n",
       "    </tr>\n",
       "  </thead>\n",
       "  <tbody>\n",
       "    <tr>\n",
       "      <th>0</th>\n",
       "      <td>Kotoshiro</td>\n",
       "      <td>Action</td>\n",
       "      <td>Lost Summoner Kitty</td>\n",
       "      <td>2018-01-04</td>\n",
       "      <td>4.99</td>\n",
       "      <td>False</td>\n",
       "      <td>761140</td>\n",
       "      <td>Kotoshiro</td>\n",
       "      <td>2018</td>\n",
       "    </tr>\n",
       "    <tr>\n",
       "      <th>1</th>\n",
       "      <td>Kotoshiro</td>\n",
       "      <td>Casual</td>\n",
       "      <td>Lost Summoner Kitty</td>\n",
       "      <td>2018-01-04</td>\n",
       "      <td>4.99</td>\n",
       "      <td>False</td>\n",
       "      <td>761140</td>\n",
       "      <td>Kotoshiro</td>\n",
       "      <td>2018</td>\n",
       "    </tr>\n",
       "    <tr>\n",
       "      <th>2</th>\n",
       "      <td>Kotoshiro</td>\n",
       "      <td>Indie</td>\n",
       "      <td>Lost Summoner Kitty</td>\n",
       "      <td>2018-01-04</td>\n",
       "      <td>4.99</td>\n",
       "      <td>False</td>\n",
       "      <td>761140</td>\n",
       "      <td>Kotoshiro</td>\n",
       "      <td>2018</td>\n",
       "    </tr>\n",
       "  </tbody>\n",
       "</table>\n",
       "</div>"
      ],
      "text/plain": [
       "   publisher  genero                title fecha_lanzamiento  price  \\\n",
       "0  Kotoshiro  Action  Lost Summoner Kitty        2018-01-04   4.99   \n",
       "1  Kotoshiro  Casual  Lost Summoner Kitty        2018-01-04   4.99   \n",
       "2  Kotoshiro   Indie  Lost Summoner Kitty        2018-01-04   4.99   \n",
       "\n",
       "   early_access  id_juego  developer  año_lanzamiento  \n",
       "0         False    761140  Kotoshiro             2018  \n",
       "1         False    761140  Kotoshiro             2018  \n",
       "2         False    761140  Kotoshiro             2018  "
      ]
     },
     "execution_count": 141,
     "metadata": {},
     "output_type": "execute_result"
    }
   ],
   "source": [
    "df_steam_games.head(3)"
   ]
  },
  {
   "cell_type": "code",
   "execution_count": 142,
   "metadata": {},
   "outputs": [
    {
     "data": {
      "text/html": [
       "<div>\n",
       "<style scoped>\n",
       "    .dataframe tbody tr th:only-of-type {\n",
       "        vertical-align: middle;\n",
       "    }\n",
       "\n",
       "    .dataframe tbody tr th {\n",
       "        vertical-align: top;\n",
       "    }\n",
       "\n",
       "    .dataframe thead th {\n",
       "        text-align: right;\n",
       "    }\n",
       "</style>\n",
       "<table border=\"1\" class=\"dataframe\">\n",
       "  <thead>\n",
       "    <tr style=\"text-align: right;\">\n",
       "      <th></th>\n",
       "      <th>user_id</th>\n",
       "      <th>items_count</th>\n",
       "      <th>id_juego</th>\n",
       "      <th>nombre_juego</th>\n",
       "      <th>timpo_total_jugado</th>\n",
       "      <th>tiempo_jugado_ultimas_2semanas</th>\n",
       "    </tr>\n",
       "  </thead>\n",
       "  <tbody>\n",
       "    <tr>\n",
       "      <th>0</th>\n",
       "      <td>76561197970982479</td>\n",
       "      <td>277</td>\n",
       "      <td>10</td>\n",
       "      <td>Counter-Strike</td>\n",
       "      <td>6</td>\n",
       "      <td>0</td>\n",
       "    </tr>\n",
       "    <tr>\n",
       "      <th>1</th>\n",
       "      <td>76561197970982479</td>\n",
       "      <td>277</td>\n",
       "      <td>20</td>\n",
       "      <td>Team Fortress Classic</td>\n",
       "      <td>0</td>\n",
       "      <td>0</td>\n",
       "    </tr>\n",
       "    <tr>\n",
       "      <th>2</th>\n",
       "      <td>76561197970982479</td>\n",
       "      <td>277</td>\n",
       "      <td>30</td>\n",
       "      <td>Day of Defeat</td>\n",
       "      <td>7</td>\n",
       "      <td>0</td>\n",
       "    </tr>\n",
       "  </tbody>\n",
       "</table>\n",
       "</div>"
      ],
      "text/plain": [
       "             user_id  items_count  id_juego           nombre_juego  \\\n",
       "0  76561197970982479          277        10         Counter-Strike   \n",
       "1  76561197970982479          277        20  Team Fortress Classic   \n",
       "2  76561197970982479          277        30          Day of Defeat   \n",
       "\n",
       "   timpo_total_jugado  tiempo_jugado_ultimas_2semanas  \n",
       "0                   6                               0  \n",
       "1                   0                               0  \n",
       "2                   7                               0  "
      ]
     },
     "execution_count": 142,
     "metadata": {},
     "output_type": "execute_result"
    }
   ],
   "source": [
    "df_user_items.head(3)"
   ]
  },
  {
   "cell_type": "code",
   "execution_count": 143,
   "metadata": {},
   "outputs": [
    {
     "data": {
      "text/html": [
       "<div>\n",
       "<style scoped>\n",
       "    .dataframe tbody tr th:only-of-type {\n",
       "        vertical-align: middle;\n",
       "    }\n",
       "\n",
       "    .dataframe tbody tr th {\n",
       "        vertical-align: top;\n",
       "    }\n",
       "\n",
       "    .dataframe thead th {\n",
       "        text-align: right;\n",
       "    }\n",
       "</style>\n",
       "<table border=\"1\" class=\"dataframe\">\n",
       "  <thead>\n",
       "    <tr style=\"text-align: right;\">\n",
       "      <th></th>\n",
       "      <th>user_id</th>\n",
       "      <th>items_count</th>\n",
       "      <th>id_juego</th>\n",
       "      <th>nombre_juego</th>\n",
       "      <th>timpo_total_jugado</th>\n",
       "      <th>tiempo_jugado_ultimas_2semanas</th>\n",
       "    </tr>\n",
       "  </thead>\n",
       "  <tbody>\n",
       "    <tr>\n",
       "      <th>0</th>\n",
       "      <td>76561197970982479</td>\n",
       "      <td>277</td>\n",
       "      <td>10</td>\n",
       "      <td>Counter-Strike</td>\n",
       "      <td>6</td>\n",
       "      <td>0</td>\n",
       "    </tr>\n",
       "    <tr>\n",
       "      <th>1</th>\n",
       "      <td>76561197970982479</td>\n",
       "      <td>277</td>\n",
       "      <td>20</td>\n",
       "      <td>Team Fortress Classic</td>\n",
       "      <td>0</td>\n",
       "      <td>0</td>\n",
       "    </tr>\n",
       "    <tr>\n",
       "      <th>2</th>\n",
       "      <td>76561197970982479</td>\n",
       "      <td>277</td>\n",
       "      <td>30</td>\n",
       "      <td>Day of Defeat</td>\n",
       "      <td>7</td>\n",
       "      <td>0</td>\n",
       "    </tr>\n",
       "  </tbody>\n",
       "</table>\n",
       "</div>"
      ],
      "text/plain": [
       "             user_id  items_count  id_juego           nombre_juego  \\\n",
       "0  76561197970982479          277        10         Counter-Strike   \n",
       "1  76561197970982479          277        20  Team Fortress Classic   \n",
       "2  76561197970982479          277        30          Day of Defeat   \n",
       "\n",
       "   timpo_total_jugado  tiempo_jugado_ultimas_2semanas  \n",
       "0                   6                               0  \n",
       "1                   0                               0  \n",
       "2                   7                               0  "
      ]
     },
     "execution_count": 143,
     "metadata": {},
     "output_type": "execute_result"
    }
   ],
   "source": [
    "df_user_items.head(3)"
   ]
  },
  {
   "cell_type": "markdown",
   "metadata": {},
   "source": [
    "##### **Funcion 1** ______________________________________________________________________________________________________________________________________________________________________________"
   ]
  },
  {
   "cell_type": "code",
   "execution_count": 144,
   "metadata": {},
   "outputs": [],
   "source": [
    "df_funcion1=pd.merge(df_user_items,df_steam_games,on='id_juego',how='left')"
   ]
  },
  {
   "cell_type": "code",
   "execution_count": null,
   "metadata": {},
   "outputs": [],
   "source": [
    "df_funcion1=df_funcion1.loc[:,['genero','año_lanzamiento','timpo_total_jugado']].groupby(by=['genero','año_lanzamiento']).sum()\n"
   ]
  },
  {
   "cell_type": "code",
   "execution_count": 150,
   "metadata": {},
   "outputs": [],
   "source": [
    "df_funcion1.reset_index(inplace=True)"
   ]
  },
  {
   "cell_type": "code",
   "execution_count": 152,
   "metadata": {},
   "outputs": [
    {
     "data": {
      "text/plain": [
       "(322, 3)"
      ]
     },
     "execution_count": 152,
     "metadata": {},
     "output_type": "execute_result"
    }
   ],
   "source": [
    "df_funcion1.shape"
   ]
  },
  {
   "cell_type": "code",
   "execution_count": 153,
   "metadata": {},
   "outputs": [
    {
     "data": {
      "text/plain": [
       "genero                0\n",
       "año_lanzamiento       0\n",
       "timpo_total_jugado    0\n",
       "dtype: int64"
      ]
     },
     "execution_count": 153,
     "metadata": {},
     "output_type": "execute_result"
    }
   ],
   "source": [
    "df_funcion1.isnull().sum()"
   ]
  },
  {
   "cell_type": "code",
   "execution_count": 154,
   "metadata": {},
   "outputs": [
    {
     "data": {
      "text/plain": [
       "array(['Action', 'Adventure', 'Animation  Modeling', 'Audio Production',\n",
       "       'Casual', 'Design  Illustration', 'Early Access', 'Education',\n",
       "       'Free to Play', 'Indie', 'Massively Multiplayer', 'Photo Editing',\n",
       "       'RPG', 'Racing', 'Simulation', 'Software Training', 'Sports',\n",
       "       'Strategy', 'Utilities', 'Video Production', 'Web Publishing'],\n",
       "      dtype=object)"
      ]
     },
     "execution_count": 154,
     "metadata": {},
     "output_type": "execute_result"
    }
   ],
   "source": [
    "df_funcion1['genero'].unique()"
   ]
  },
  {
   "cell_type": "code",
   "execution_count": 80,
   "metadata": {},
   "outputs": [],
   "source": [
    "# limpiar los siguientes tipos de datos \n",
    "# Design &amp; Illustration',   Animation &amp; Modeling "
   ]
  },
  {
   "cell_type": "code",
   "execution_count": 155,
   "metadata": {},
   "outputs": [],
   "source": [
    "# Creo un Dataset reducido con los datos necesarios para ser consumido por la API \n",
    "df_funcion1.to_csv('funcion1.csv',index=False) "
   ]
  },
  {
   "cell_type": "code",
   "execution_count": 82,
   "metadata": {},
   "outputs": [],
   "source": [
    "def PlayTimeGenre( genre : str ): #  Debe devolver año con mas horas jugadas para dicho género.\n",
    "    # pasar a dataframe dentro de la funcion ?\n",
    "    try:\n",
    "        valor_maximo=df_funcion1[df_funcion1['genero']==genre]['timpo_total_jugado'].max()\n",
    "        indice=df_funcion1[df_funcion1['timpo_total_jugado']==valor_maximo].index\n",
    "        resultado=df_funcion1['año_lanzamiento'].loc[indice].values\n",
    "        return {f'Año de lanzamiento con mas horas jugadas para el Género {genre}:':resultado[0]}\n",
    "    except Exception as e:\n",
    "        print('Genero incorrecto')\n",
    "\n",
    "\n",
    "# Ejemplo de retorno: {\"Año de lanzamiento con más horas jugadas para Género X\" : 2013}\n",
    "\n",
    "# Como unir las tablas ? \n",
    "    # usar codigo SQL\n",
    "    # pandas con merge \n",
    "    # pandas con join "
   ]
  },
  {
   "cell_type": "code",
   "execution_count": 83,
   "metadata": {},
   "outputs": [
    {
     "name": "stdout",
     "output_type": "stream",
     "text": [
      "Genero incorrecto\n"
     ]
    }
   ],
   "source": [
    "PlayTimeGenre('Web Publishing')"
   ]
  },
  {
   "cell_type": "markdown",
   "metadata": {},
   "source": [
    "##### **Funcion 2** ______________________________________________________________________________________________________________________________________________________________________________"
   ]
  },
  {
   "cell_type": "code",
   "execution_count": 156,
   "metadata": {},
   "outputs": [
    {
     "data": {
      "text/html": [
       "<div>\n",
       "<style scoped>\n",
       "    .dataframe tbody tr th:only-of-type {\n",
       "        vertical-align: middle;\n",
       "    }\n",
       "\n",
       "    .dataframe tbody tr th {\n",
       "        vertical-align: top;\n",
       "    }\n",
       "\n",
       "    .dataframe thead th {\n",
       "        text-align: right;\n",
       "    }\n",
       "</style>\n",
       "<table border=\"1\" class=\"dataframe\">\n",
       "  <thead>\n",
       "    <tr style=\"text-align: right;\">\n",
       "      <th></th>\n",
       "      <th>publisher</th>\n",
       "      <th>genero</th>\n",
       "      <th>title</th>\n",
       "      <th>fecha_lanzamiento</th>\n",
       "      <th>price</th>\n",
       "      <th>early_access</th>\n",
       "      <th>id_juego</th>\n",
       "      <th>developer</th>\n",
       "      <th>año_lanzamiento</th>\n",
       "    </tr>\n",
       "  </thead>\n",
       "  <tbody>\n",
       "    <tr>\n",
       "      <th>0</th>\n",
       "      <td>Kotoshiro</td>\n",
       "      <td>Action</td>\n",
       "      <td>Lost Summoner Kitty</td>\n",
       "      <td>2018-01-04</td>\n",
       "      <td>4.99</td>\n",
       "      <td>False</td>\n",
       "      <td>761140</td>\n",
       "      <td>Kotoshiro</td>\n",
       "      <td>2018</td>\n",
       "    </tr>\n",
       "    <tr>\n",
       "      <th>1</th>\n",
       "      <td>Kotoshiro</td>\n",
       "      <td>Casual</td>\n",
       "      <td>Lost Summoner Kitty</td>\n",
       "      <td>2018-01-04</td>\n",
       "      <td>4.99</td>\n",
       "      <td>False</td>\n",
       "      <td>761140</td>\n",
       "      <td>Kotoshiro</td>\n",
       "      <td>2018</td>\n",
       "    </tr>\n",
       "    <tr>\n",
       "      <th>2</th>\n",
       "      <td>Kotoshiro</td>\n",
       "      <td>Indie</td>\n",
       "      <td>Lost Summoner Kitty</td>\n",
       "      <td>2018-01-04</td>\n",
       "      <td>4.99</td>\n",
       "      <td>False</td>\n",
       "      <td>761140</td>\n",
       "      <td>Kotoshiro</td>\n",
       "      <td>2018</td>\n",
       "    </tr>\n",
       "  </tbody>\n",
       "</table>\n",
       "</div>"
      ],
      "text/plain": [
       "   publisher  genero                title fecha_lanzamiento  price  \\\n",
       "0  Kotoshiro  Action  Lost Summoner Kitty        2018-01-04   4.99   \n",
       "1  Kotoshiro  Casual  Lost Summoner Kitty        2018-01-04   4.99   \n",
       "2  Kotoshiro   Indie  Lost Summoner Kitty        2018-01-04   4.99   \n",
       "\n",
       "   early_access  id_juego  developer  año_lanzamiento  \n",
       "0         False    761140  Kotoshiro             2018  \n",
       "1         False    761140  Kotoshiro             2018  \n",
       "2         False    761140  Kotoshiro             2018  "
      ]
     },
     "execution_count": 156,
     "metadata": {},
     "output_type": "execute_result"
    }
   ],
   "source": [
    "# elegir el dataframe reducido a utilizar\n",
    "\n",
    "df_steam_games.head(3) # Exploracion "
   ]
  },
  {
   "cell_type": "code",
   "execution_count": 157,
   "metadata": {},
   "outputs": [
    {
     "data": {
      "text/html": [
       "<div>\n",
       "<style scoped>\n",
       "    .dataframe tbody tr th:only-of-type {\n",
       "        vertical-align: middle;\n",
       "    }\n",
       "\n",
       "    .dataframe tbody tr th {\n",
       "        vertical-align: top;\n",
       "    }\n",
       "\n",
       "    .dataframe thead th {\n",
       "        text-align: right;\n",
       "    }\n",
       "</style>\n",
       "<table border=\"1\" class=\"dataframe\">\n",
       "  <thead>\n",
       "    <tr style=\"text-align: right;\">\n",
       "      <th></th>\n",
       "      <th>user_id</th>\n",
       "      <th>items_count</th>\n",
       "      <th>id_juego</th>\n",
       "      <th>nombre_juego</th>\n",
       "      <th>timpo_total_jugado</th>\n",
       "      <th>tiempo_jugado_ultimas_2semanas</th>\n",
       "    </tr>\n",
       "  </thead>\n",
       "  <tbody>\n",
       "    <tr>\n",
       "      <th>0</th>\n",
       "      <td>76561197970982479</td>\n",
       "      <td>277</td>\n",
       "      <td>10</td>\n",
       "      <td>Counter-Strike</td>\n",
       "      <td>6</td>\n",
       "      <td>0</td>\n",
       "    </tr>\n",
       "    <tr>\n",
       "      <th>1</th>\n",
       "      <td>76561197970982479</td>\n",
       "      <td>277</td>\n",
       "      <td>20</td>\n",
       "      <td>Team Fortress Classic</td>\n",
       "      <td>0</td>\n",
       "      <td>0</td>\n",
       "    </tr>\n",
       "    <tr>\n",
       "      <th>2</th>\n",
       "      <td>76561197970982479</td>\n",
       "      <td>277</td>\n",
       "      <td>30</td>\n",
       "      <td>Day of Defeat</td>\n",
       "      <td>7</td>\n",
       "      <td>0</td>\n",
       "    </tr>\n",
       "  </tbody>\n",
       "</table>\n",
       "</div>"
      ],
      "text/plain": [
       "             user_id  items_count  id_juego           nombre_juego  \\\n",
       "0  76561197970982479          277        10         Counter-Strike   \n",
       "1  76561197970982479          277        20  Team Fortress Classic   \n",
       "2  76561197970982479          277        30          Day of Defeat   \n",
       "\n",
       "   timpo_total_jugado  tiempo_jugado_ultimas_2semanas  \n",
       "0                   6                               0  \n",
       "1                   0                               0  \n",
       "2                   7                               0  "
      ]
     },
     "execution_count": 157,
     "metadata": {},
     "output_type": "execute_result"
    }
   ],
   "source": [
    "df_user_items.head(3) # Exploracion"
   ]
  },
  {
   "cell_type": "code",
   "execution_count": 158,
   "metadata": {},
   "outputs": [
    {
     "data": {
      "text/html": [
       "<div>\n",
       "<style scoped>\n",
       "    .dataframe tbody tr th:only-of-type {\n",
       "        vertical-align: middle;\n",
       "    }\n",
       "\n",
       "    .dataframe tbody tr th {\n",
       "        vertical-align: top;\n",
       "    }\n",
       "\n",
       "    .dataframe thead th {\n",
       "        text-align: right;\n",
       "    }\n",
       "</style>\n",
       "<table border=\"1\" class=\"dataframe\">\n",
       "  <thead>\n",
       "    <tr style=\"text-align: right;\">\n",
       "      <th></th>\n",
       "      <th>user_id</th>\n",
       "      <th>id_juego</th>\n",
       "      <th>helpful</th>\n",
       "      <th>recommend</th>\n",
       "      <th>sentiment_analysis</th>\n",
       "      <th>review_posted</th>\n",
       "      <th>año_posted_review</th>\n",
       "    </tr>\n",
       "  </thead>\n",
       "  <tbody>\n",
       "    <tr>\n",
       "      <th>0</th>\n",
       "      <td>76561197970982479</td>\n",
       "      <td>1250</td>\n",
       "      <td>No ratings yet</td>\n",
       "      <td>True</td>\n",
       "      <td>2</td>\n",
       "      <td>2011-11-05</td>\n",
       "      <td>2011</td>\n",
       "    </tr>\n",
       "    <tr>\n",
       "      <th>1</th>\n",
       "      <td>76561197970982479</td>\n",
       "      <td>22200</td>\n",
       "      <td>No ratings yet</td>\n",
       "      <td>True</td>\n",
       "      <td>2</td>\n",
       "      <td>2011-07-15</td>\n",
       "      <td>2011</td>\n",
       "    </tr>\n",
       "    <tr>\n",
       "      <th>2</th>\n",
       "      <td>76561197970982479</td>\n",
       "      <td>43110</td>\n",
       "      <td>No ratings yet</td>\n",
       "      <td>True</td>\n",
       "      <td>2</td>\n",
       "      <td>2011-04-21</td>\n",
       "      <td>2011</td>\n",
       "    </tr>\n",
       "  </tbody>\n",
       "</table>\n",
       "</div>"
      ],
      "text/plain": [
       "             user_id  id_juego         helpful  recommend  sentiment_analysis  \\\n",
       "0  76561197970982479      1250  No ratings yet       True                   2   \n",
       "1  76561197970982479     22200  No ratings yet       True                   2   \n",
       "2  76561197970982479     43110  No ratings yet       True                   2   \n",
       "\n",
       "  review_posted  año_posted_review  \n",
       "0    2011-11-05               2011  \n",
       "1    2011-07-15               2011  \n",
       "2    2011-04-21               2011  "
      ]
     },
     "execution_count": 158,
     "metadata": {},
     "output_type": "execute_result"
    }
   ],
   "source": [
    "df_user_reviews.head(3) # Exploracion "
   ]
  },
  {
   "cell_type": "code",
   "execution_count": 159,
   "metadata": {},
   "outputs": [],
   "source": [
    "df_funcion2=pd.merge(df_user_items,df_steam_games,on='id_juego',how='left').merge(df_user_reviews,on=['user_id','id_juego'],how='left')"
   ]
  },
  {
   "cell_type": "code",
   "execution_count": 160,
   "metadata": {},
   "outputs": [],
   "source": [
    "df_funcion2=df_funcion2.loc[:,['genero','user_id','año_posted_review','timpo_total_jugado']] # seleccionar columnas que necesito para la funcion"
   ]
  },
  {
   "cell_type": "code",
   "execution_count": 161,
   "metadata": {},
   "outputs": [
    {
     "data": {
      "text/plain": [
       "genero                 1103548\n",
       "user_id                      0\n",
       "año_posted_review     10512840\n",
       "timpo_total_jugado           0\n",
       "dtype: int64"
      ]
     },
     "execution_count": 161,
     "metadata": {},
     "output_type": "execute_result"
    }
   ],
   "source": [
    "# Ver valores nulos de cada columna \n",
    "df_funcion2.isnull().sum()\n",
    "\n",
    "#   Desicion: dado que necesito obligatoriamente el dato de \"genero\" y \"año\", desido eliminar los nulos en las mencionadas columnas, se observa que para algunos juegos no existe ni genero ni año_posted_Review\n",
    "# lo cual indica que hay jugadores que han jugado un juego pero no han hecho una review del mismo "
   ]
  },
  {
   "cell_type": "code",
   "execution_count": 164,
   "metadata": {},
   "outputs": [
    {
     "data": {
      "text/plain": [
       "(77429, 4)"
      ]
     },
     "execution_count": 164,
     "metadata": {},
     "output_type": "execute_result"
    }
   ],
   "source": [
    "df_funcion2.shape"
   ]
  },
  {
   "cell_type": "code",
   "execution_count": 163,
   "metadata": {},
   "outputs": [],
   "source": [
    "# elimino nulos \n",
    "df_funcion2.dropna(inplace=True)"
   ]
  },
  {
   "cell_type": "code",
   "execution_count": 165,
   "metadata": {},
   "outputs": [],
   "source": [
    "df_funcion2.groupby(by=['genero','user_id','año_posted_review']).sum().reset_index(inplace=True)"
   ]
  },
  {
   "cell_type": "code",
   "execution_count": 166,
   "metadata": {},
   "outputs": [
    {
     "data": {
      "text/html": [
       "<div>\n",
       "<style scoped>\n",
       "    .dataframe tbody tr th:only-of-type {\n",
       "        vertical-align: middle;\n",
       "    }\n",
       "\n",
       "    .dataframe tbody tr th {\n",
       "        vertical-align: top;\n",
       "    }\n",
       "\n",
       "    .dataframe thead th {\n",
       "        text-align: right;\n",
       "    }\n",
       "</style>\n",
       "<table border=\"1\" class=\"dataframe\">\n",
       "  <thead>\n",
       "    <tr style=\"text-align: right;\">\n",
       "      <th></th>\n",
       "      <th>genero</th>\n",
       "      <th>user_id</th>\n",
       "      <th>año_posted_review</th>\n",
       "      <th>timpo_total_jugado</th>\n",
       "    </tr>\n",
       "  </thead>\n",
       "  <tbody>\n",
       "    <tr>\n",
       "      <th>50</th>\n",
       "      <td>Action</td>\n",
       "      <td>76561197970982479</td>\n",
       "      <td>2011.0</td>\n",
       "      <td>271</td>\n",
       "    </tr>\n",
       "    <tr>\n",
       "      <th>51</th>\n",
       "      <td>Indie</td>\n",
       "      <td>76561197970982479</td>\n",
       "      <td>2011.0</td>\n",
       "      <td>271</td>\n",
       "    </tr>\n",
       "    <tr>\n",
       "      <th>55</th>\n",
       "      <td>Action</td>\n",
       "      <td>76561197970982479</td>\n",
       "      <td>2011.0</td>\n",
       "      <td>10006</td>\n",
       "    </tr>\n",
       "    <tr>\n",
       "      <th>1003</th>\n",
       "      <td>Indie</td>\n",
       "      <td>js41637</td>\n",
       "      <td>2013.0</td>\n",
       "      <td>551</td>\n",
       "    </tr>\n",
       "    <tr>\n",
       "      <th>1004</th>\n",
       "      <td>Simulation</td>\n",
       "      <td>js41637</td>\n",
       "      <td>2013.0</td>\n",
       "      <td>551</td>\n",
       "    </tr>\n",
       "    <tr>\n",
       "      <th>...</th>\n",
       "      <td>...</td>\n",
       "      <td>...</td>\n",
       "      <td>...</td>\n",
       "      <td>...</td>\n",
       "    </tr>\n",
       "    <tr>\n",
       "      <th>10584623</th>\n",
       "      <td>Action</td>\n",
       "      <td>76561198239215706</td>\n",
       "      <td>2015.0</td>\n",
       "      <td>4659</td>\n",
       "    </tr>\n",
       "    <tr>\n",
       "      <th>10585465</th>\n",
       "      <td>Action</td>\n",
       "      <td>wayfeng</td>\n",
       "      <td>2015.0</td>\n",
       "      <td>42740</td>\n",
       "    </tr>\n",
       "    <tr>\n",
       "      <th>10585602</th>\n",
       "      <td>RPG</td>\n",
       "      <td>76561198251004808</td>\n",
       "      <td>2015.0</td>\n",
       "      <td>1098</td>\n",
       "    </tr>\n",
       "    <tr>\n",
       "      <th>10586733</th>\n",
       "      <td>Action</td>\n",
       "      <td>72947282842</td>\n",
       "      <td>2015.0</td>\n",
       "      <td>33</td>\n",
       "    </tr>\n",
       "    <tr>\n",
       "      <th>10586801</th>\n",
       "      <td>Action</td>\n",
       "      <td>ApxLGhost</td>\n",
       "      <td>2015.0</td>\n",
       "      <td>10121</td>\n",
       "    </tr>\n",
       "  </tbody>\n",
       "</table>\n",
       "<p>77429 rows × 4 columns</p>\n",
       "</div>"
      ],
      "text/plain": [
       "              genero            user_id  año_posted_review  timpo_total_jugado\n",
       "50            Action  76561197970982479             2011.0                 271\n",
       "51             Indie  76561197970982479             2011.0                 271\n",
       "55            Action  76561197970982479             2011.0               10006\n",
       "1003           Indie            js41637             2013.0                 551\n",
       "1004      Simulation            js41637             2013.0                 551\n",
       "...              ...                ...                ...                 ...\n",
       "10584623      Action  76561198239215706             2015.0                4659\n",
       "10585465      Action            wayfeng             2015.0               42740\n",
       "10585602         RPG  76561198251004808             2015.0                1098\n",
       "10586733      Action        72947282842             2015.0                  33\n",
       "10586801      Action          ApxLGhost             2015.0               10121\n",
       "\n",
       "[77429 rows x 4 columns]"
      ]
     },
     "execution_count": 166,
     "metadata": {},
     "output_type": "execute_result"
    }
   ],
   "source": [
    "df_funcion2  # df definitivo "
   ]
  },
  {
   "cell_type": "code",
   "execution_count": 167,
   "metadata": {},
   "outputs": [],
   "source": [
    "df_funcion2.to_csv('funcion2.csv',index=False)"
   ]
  },
  {
   "cell_type": "code",
   "execution_count": 94,
   "metadata": {},
   "outputs": [
    {
     "data": {
      "text/html": [
       "<div>\n",
       "<style scoped>\n",
       "    .dataframe tbody tr th:only-of-type {\n",
       "        vertical-align: middle;\n",
       "    }\n",
       "\n",
       "    .dataframe tbody tr th {\n",
       "        vertical-align: top;\n",
       "    }\n",
       "\n",
       "    .dataframe thead th {\n",
       "        text-align: right;\n",
       "    }\n",
       "</style>\n",
       "<table border=\"1\" class=\"dataframe\">\n",
       "  <thead>\n",
       "    <tr style=\"text-align: right;\">\n",
       "      <th></th>\n",
       "      <th>genero</th>\n",
       "      <th>user_id</th>\n",
       "      <th>año_posted_review</th>\n",
       "      <th>timpo_total_jugado</th>\n",
       "    </tr>\n",
       "  </thead>\n",
       "  <tbody>\n",
       "  </tbody>\n",
       "</table>\n",
       "</div>"
      ],
      "text/plain": [
       "Empty DataFrame\n",
       "Columns: [genero, user_id, año_posted_review, timpo_total_jugado]\n",
       "Index: []"
      ]
     },
     "execution_count": 94,
     "metadata": {},
     "output_type": "execute_result"
    }
   ],
   "source": [
    "df_funcion2"
   ]
  },
  {
   "cell_type": "code",
   "execution_count": 168,
   "metadata": {},
   "outputs": [
    {
     "data": {
      "text/html": [
       "<div>\n",
       "<style scoped>\n",
       "    .dataframe tbody tr th:only-of-type {\n",
       "        vertical-align: middle;\n",
       "    }\n",
       "\n",
       "    .dataframe tbody tr th {\n",
       "        vertical-align: top;\n",
       "    }\n",
       "\n",
       "    .dataframe thead th {\n",
       "        text-align: right;\n",
       "    }\n",
       "</style>\n",
       "<table border=\"1\" class=\"dataframe\">\n",
       "  <thead>\n",
       "    <tr style=\"text-align: right;\">\n",
       "      <th></th>\n",
       "      <th>genero</th>\n",
       "      <th>user_id</th>\n",
       "      <th>año_posted_review</th>\n",
       "      <th>timpo_total_jugado</th>\n",
       "    </tr>\n",
       "  </thead>\n",
       "  <tbody>\n",
       "    <tr>\n",
       "      <th>50</th>\n",
       "      <td>Action</td>\n",
       "      <td>76561197970982479</td>\n",
       "      <td>2011.0</td>\n",
       "      <td>271</td>\n",
       "    </tr>\n",
       "    <tr>\n",
       "      <th>55</th>\n",
       "      <td>Action</td>\n",
       "      <td>76561197970982479</td>\n",
       "      <td>2011.0</td>\n",
       "      <td>10006</td>\n",
       "    </tr>\n",
       "    <tr>\n",
       "      <th>2356</th>\n",
       "      <td>Action</td>\n",
       "      <td>evcentric</td>\n",
       "      <td>2014.0</td>\n",
       "      <td>3225</td>\n",
       "    </tr>\n",
       "    <tr>\n",
       "      <th>2435</th>\n",
       "      <td>Action</td>\n",
       "      <td>evcentric</td>\n",
       "      <td>2014.0</td>\n",
       "      <td>447</td>\n",
       "    </tr>\n",
       "    <tr>\n",
       "      <th>2463</th>\n",
       "      <td>Action</td>\n",
       "      <td>evcentric</td>\n",
       "      <td>2014.0</td>\n",
       "      <td>508</td>\n",
       "    </tr>\n",
       "    <tr>\n",
       "      <th>...</th>\n",
       "      <td>...</td>\n",
       "      <td>...</td>\n",
       "      <td>...</td>\n",
       "      <td>...</td>\n",
       "    </tr>\n",
       "    <tr>\n",
       "      <th>10584396</th>\n",
       "      <td>Action</td>\n",
       "      <td>76561198236893796</td>\n",
       "      <td>2015.0</td>\n",
       "      <td>1078</td>\n",
       "    </tr>\n",
       "    <tr>\n",
       "      <th>10584623</th>\n",
       "      <td>Action</td>\n",
       "      <td>76561198239215706</td>\n",
       "      <td>2015.0</td>\n",
       "      <td>4659</td>\n",
       "    </tr>\n",
       "    <tr>\n",
       "      <th>10585465</th>\n",
       "      <td>Action</td>\n",
       "      <td>wayfeng</td>\n",
       "      <td>2015.0</td>\n",
       "      <td>42740</td>\n",
       "    </tr>\n",
       "    <tr>\n",
       "      <th>10586733</th>\n",
       "      <td>Action</td>\n",
       "      <td>72947282842</td>\n",
       "      <td>2015.0</td>\n",
       "      <td>33</td>\n",
       "    </tr>\n",
       "    <tr>\n",
       "      <th>10586801</th>\n",
       "      <td>Action</td>\n",
       "      <td>ApxLGhost</td>\n",
       "      <td>2015.0</td>\n",
       "      <td>10121</td>\n",
       "    </tr>\n",
       "  </tbody>\n",
       "</table>\n",
       "<p>22642 rows × 4 columns</p>\n",
       "</div>"
      ],
      "text/plain": [
       "          genero            user_id  año_posted_review  timpo_total_jugado\n",
       "50        Action  76561197970982479             2011.0                 271\n",
       "55        Action  76561197970982479             2011.0               10006\n",
       "2356      Action          evcentric             2014.0                3225\n",
       "2435      Action          evcentric             2014.0                 447\n",
       "2463      Action          evcentric             2014.0                 508\n",
       "...          ...                ...                ...                 ...\n",
       "10584396  Action  76561198236893796             2015.0                1078\n",
       "10584623  Action  76561198239215706             2015.0                4659\n",
       "10585465  Action            wayfeng             2015.0               42740\n",
       "10586733  Action        72947282842             2015.0                  33\n",
       "10586801  Action          ApxLGhost             2015.0               10121\n",
       "\n",
       "[22642 rows x 4 columns]"
      ]
     },
     "execution_count": 168,
     "metadata": {},
     "output_type": "execute_result"
    }
   ],
   "source": [
    "df_funcion2[df_funcion2['genero']=='Action']"
   ]
  },
  {
   "cell_type": "code",
   "execution_count": 169,
   "metadata": {},
   "outputs": [],
   "source": [
    "\n",
    "valor_maximo=df_funcion2['timpo_total_jugado'].max()\n",
    "indice_tiempo_maximo=df_funcion2[df_funcion2['timpo_total_jugado']==valor_maximo].index"
   ]
  },
  {
   "cell_type": "code",
   "execution_count": 170,
   "metadata": {},
   "outputs": [
    {
     "data": {
      "text/plain": [
       "Index([1250897, 1250898], dtype='int64')"
      ]
     },
     "execution_count": 170,
     "metadata": {},
     "output_type": "execute_result"
    }
   ],
   "source": [
    "indice_tiempo_maximo"
   ]
  },
  {
   "cell_type": "code",
   "execution_count": 171,
   "metadata": {},
   "outputs": [
    {
     "data": {
      "text/plain": [
       "array(['wolop', 'wolop'], dtype=object)"
      ]
     },
     "execution_count": 171,
     "metadata": {},
     "output_type": "execute_result"
    }
   ],
   "source": [
    "df_funcion2['user_id'].loc[indice_tiempo_maximo].values"
   ]
  },
  {
   "cell_type": "code",
   "execution_count": 172,
   "metadata": {},
   "outputs": [],
   "source": [
    "df_genero=df_funcion2[df_funcion2['genero']=='Action']\n",
    "tiempo_maximo=df_genero['timpo_total_jugado'].max()\n",
    "indice_tiempo_maximo=df_genero[df_genero['timpo_total_jugado']==tiempo_maximo].index\n",
    "resultado=df_genero.loc[indice_tiempo_maximo,:]"
   ]
  },
  {
   "cell_type": "code",
   "execution_count": 173,
   "metadata": {},
   "outputs": [],
   "source": [
    "df_usuario=df_funcion2[(df_funcion2['user_id']=='shinomegami') & (df_funcion2['genero']=='Action')]"
   ]
  },
  {
   "cell_type": "code",
   "execution_count": 174,
   "metadata": {},
   "outputs": [
    {
     "data": {
      "text/html": [
       "<div>\n",
       "<style scoped>\n",
       "    .dataframe tbody tr th:only-of-type {\n",
       "        vertical-align: middle;\n",
       "    }\n",
       "\n",
       "    .dataframe tbody tr th {\n",
       "        vertical-align: top;\n",
       "    }\n",
       "\n",
       "    .dataframe thead th {\n",
       "        text-align: right;\n",
       "    }\n",
       "</style>\n",
       "<table border=\"1\" class=\"dataframe\">\n",
       "  <thead>\n",
       "    <tr style=\"text-align: right;\">\n",
       "      <th></th>\n",
       "      <th>genero</th>\n",
       "      <th>user_id</th>\n",
       "      <th>año_posted_review</th>\n",
       "      <th>timpo_total_jugado</th>\n",
       "    </tr>\n",
       "  </thead>\n",
       "  <tbody>\n",
       "    <tr>\n",
       "      <th>3976423</th>\n",
       "      <td>Action</td>\n",
       "      <td>shinomegami</td>\n",
       "      <td>2014.0</td>\n",
       "      <td>8392</td>\n",
       "    </tr>\n",
       "    <tr>\n",
       "      <th>3976443</th>\n",
       "      <td>Action</td>\n",
       "      <td>shinomegami</td>\n",
       "      <td>2015.0</td>\n",
       "      <td>530882</td>\n",
       "    </tr>\n",
       "    <tr>\n",
       "      <th>3976520</th>\n",
       "      <td>Action</td>\n",
       "      <td>shinomegami</td>\n",
       "      <td>2012.0</td>\n",
       "      <td>137029</td>\n",
       "    </tr>\n",
       "  </tbody>\n",
       "</table>\n",
       "</div>"
      ],
      "text/plain": [
       "         genero      user_id  año_posted_review  timpo_total_jugado\n",
       "3976423  Action  shinomegami             2014.0                8392\n",
       "3976443  Action  shinomegami             2015.0              530882\n",
       "3976520  Action  shinomegami             2012.0              137029"
      ]
     },
     "execution_count": 174,
     "metadata": {},
     "output_type": "execute_result"
    }
   ],
   "source": [
    "df_usuario"
   ]
  },
  {
   "cell_type": "code",
   "execution_count": 175,
   "metadata": {},
   "outputs": [],
   "source": [
    "def UserForGenre( genero : str ): #Debe devolver el usuario que acumula más horas jugadas para el género dado y una lista de la acumulación de horas jugadas por año.\n",
    "    try:\n",
    "        genero=genero.capitalize() # independientemente de si el usuario coloca el parametro en mayuscula o minuscula, el texto introducido se convierte a un texto con la primer letra en mayusculas y las otrwas en minusculas\n",
    "        df_genero=df_funcion2[df_funcion2['genero']==genero]\n",
    "        tiempo_maximo=df_genero['timpo_total_jugado'].max()\n",
    "        indice_tiempo_maximo=df_genero[df_genero['timpo_total_jugado']==tiempo_maximo].index\n",
    "        resultado=df_genero['user_id'].loc[indice_tiempo_maximo].values[0]\n",
    "\n",
    "        df_horas_por_año=df_funcion2[(df_funcion2['user_id']==resultado) & (df_funcion2['genero']==genero)]\n",
    "        lista=[]\n",
    "        for indice,fila in df_horas_por_año.iterrows():\n",
    "            año=fila['año_posted_review']\n",
    "            horas_jugadas=fila['timpo_total_jugado']\n",
    "            lista.append({'Año': año, 'Horas': horas_jugadas})\n",
    "\n",
    "        return {f'Usuario con más horas jugadas para el Género {genero}':resultado, 'Horas jugadas': lista}\n",
    "\n",
    "    except Exception as e:\n",
    "        return {'Genero incorrecto'}\n",
    "\n",
    "# Ejemplo de retorno: {\"Usuario con más horas jugadas para Género X\" : us213ndjss09sdf, \"Horas jugadas\":[{Año: 2013, Horas: 203}, {Año: 2012, Horas: 100}, {Año: 2011, Horas: 23}]}\n",
    "\n"
   ]
  },
  {
   "cell_type": "code",
   "execution_count": 176,
   "metadata": {},
   "outputs": [
    {
     "data": {
      "text/plain": [
       "{'Usuario con más horas jugadas para el Género Action': 'shinomegami',\n",
       " 'Horas jugadas': [{'Año': 2014.0, 'Horas': 8392},\n",
       "  {'Año': 2015.0, 'Horas': 530882},\n",
       "  {'Año': 2012.0, 'Horas': 137029}]}"
      ]
     },
     "execution_count": 176,
     "metadata": {},
     "output_type": "execute_result"
    }
   ],
   "source": [
    "UserForGenre('actIon')"
   ]
  },
  {
   "cell_type": "markdown",
   "metadata": {},
   "source": [
    "##### **Funcion 3** ______________________________________________________________________________________________________________________________________________________________________________"
   ]
  },
  {
   "cell_type": "code",
   "execution_count": 177,
   "metadata": {},
   "outputs": [],
   "source": [
    "df_funcion3=pd.merge(df_user_reviews,df_user_items,on=['user_id','id_juego'],how='left').merge(df_steam_games,on='id_juego',how='left')"
   ]
  },
  {
   "cell_type": "code",
   "execution_count": 178,
   "metadata": {},
   "outputs": [
    {
     "data": {
      "text/html": [
       "<div>\n",
       "<style scoped>\n",
       "    .dataframe tbody tr th:only-of-type {\n",
       "        vertical-align: middle;\n",
       "    }\n",
       "\n",
       "    .dataframe tbody tr th {\n",
       "        vertical-align: top;\n",
       "    }\n",
       "\n",
       "    .dataframe thead th {\n",
       "        text-align: right;\n",
       "    }\n",
       "</style>\n",
       "<table border=\"1\" class=\"dataframe\">\n",
       "  <thead>\n",
       "    <tr style=\"text-align: right;\">\n",
       "      <th></th>\n",
       "      <th>user_id</th>\n",
       "      <th>id_juego</th>\n",
       "      <th>helpful</th>\n",
       "      <th>recommend</th>\n",
       "      <th>sentiment_analysis</th>\n",
       "      <th>review_posted</th>\n",
       "      <th>año_posted_review</th>\n",
       "      <th>items_count</th>\n",
       "      <th>nombre_juego</th>\n",
       "      <th>timpo_total_jugado</th>\n",
       "      <th>tiempo_jugado_ultimas_2semanas</th>\n",
       "      <th>publisher</th>\n",
       "      <th>genero</th>\n",
       "      <th>title</th>\n",
       "      <th>fecha_lanzamiento</th>\n",
       "      <th>price</th>\n",
       "      <th>early_access</th>\n",
       "      <th>developer</th>\n",
       "      <th>año_lanzamiento</th>\n",
       "    </tr>\n",
       "  </thead>\n",
       "  <tbody>\n",
       "    <tr>\n",
       "      <th>0</th>\n",
       "      <td>76561197970982479</td>\n",
       "      <td>1250</td>\n",
       "      <td>No ratings yet</td>\n",
       "      <td>True</td>\n",
       "      <td>2</td>\n",
       "      <td>2011-11-05</td>\n",
       "      <td>2011</td>\n",
       "      <td>277.0</td>\n",
       "      <td>Killing Floor</td>\n",
       "      <td>10006.0</td>\n",
       "      <td>0.0</td>\n",
       "      <td>Tripwire Interactive</td>\n",
       "      <td>Action</td>\n",
       "      <td>Killing Floor</td>\n",
       "      <td>2009-05-14</td>\n",
       "      <td>19.99</td>\n",
       "      <td>False</td>\n",
       "      <td>Tripwire Interactive</td>\n",
       "      <td>2009.0</td>\n",
       "    </tr>\n",
       "    <tr>\n",
       "      <th>1</th>\n",
       "      <td>76561197970982479</td>\n",
       "      <td>22200</td>\n",
       "      <td>No ratings yet</td>\n",
       "      <td>True</td>\n",
       "      <td>2</td>\n",
       "      <td>2011-07-15</td>\n",
       "      <td>2011</td>\n",
       "      <td>277.0</td>\n",
       "      <td>Zeno Clash</td>\n",
       "      <td>271.0</td>\n",
       "      <td>0.0</td>\n",
       "      <td>ACE Team</td>\n",
       "      <td>Action</td>\n",
       "      <td>Zeno Clash</td>\n",
       "      <td>2009-04-21</td>\n",
       "      <td>9.99</td>\n",
       "      <td>False</td>\n",
       "      <td>ACE Team</td>\n",
       "      <td>2009.0</td>\n",
       "    </tr>\n",
       "    <tr>\n",
       "      <th>2</th>\n",
       "      <td>76561197970982479</td>\n",
       "      <td>22200</td>\n",
       "      <td>No ratings yet</td>\n",
       "      <td>True</td>\n",
       "      <td>2</td>\n",
       "      <td>2011-07-15</td>\n",
       "      <td>2011</td>\n",
       "      <td>277.0</td>\n",
       "      <td>Zeno Clash</td>\n",
       "      <td>271.0</td>\n",
       "      <td>0.0</td>\n",
       "      <td>ACE Team</td>\n",
       "      <td>Indie</td>\n",
       "      <td>Zeno Clash</td>\n",
       "      <td>2009-04-21</td>\n",
       "      <td>9.99</td>\n",
       "      <td>False</td>\n",
       "      <td>ACE Team</td>\n",
       "      <td>2009.0</td>\n",
       "    </tr>\n",
       "  </tbody>\n",
       "</table>\n",
       "</div>"
      ],
      "text/plain": [
       "             user_id  id_juego         helpful  recommend  sentiment_analysis  \\\n",
       "0  76561197970982479      1250  No ratings yet       True                   2   \n",
       "1  76561197970982479     22200  No ratings yet       True                   2   \n",
       "2  76561197970982479     22200  No ratings yet       True                   2   \n",
       "\n",
       "  review_posted  año_posted_review  items_count   nombre_juego  \\\n",
       "0    2011-11-05               2011        277.0  Killing Floor   \n",
       "1    2011-07-15               2011        277.0     Zeno Clash   \n",
       "2    2011-07-15               2011        277.0     Zeno Clash   \n",
       "\n",
       "   timpo_total_jugado  tiempo_jugado_ultimas_2semanas             publisher  \\\n",
       "0             10006.0                             0.0  Tripwire Interactive   \n",
       "1               271.0                             0.0              ACE Team   \n",
       "2               271.0                             0.0              ACE Team   \n",
       "\n",
       "   genero          title fecha_lanzamiento  price early_access  \\\n",
       "0  Action  Killing Floor        2009-05-14  19.99        False   \n",
       "1  Action     Zeno Clash        2009-04-21   9.99        False   \n",
       "2   Indie     Zeno Clash        2009-04-21   9.99        False   \n",
       "\n",
       "              developer  año_lanzamiento  \n",
       "0  Tripwire Interactive           2009.0  \n",
       "1              ACE Team           2009.0  \n",
       "2              ACE Team           2009.0  "
      ]
     },
     "execution_count": 178,
     "metadata": {},
     "output_type": "execute_result"
    }
   ],
   "source": [
    "df_funcion3.head(3)"
   ]
  },
  {
   "cell_type": "code",
   "execution_count": 179,
   "metadata": {},
   "outputs": [],
   "source": [
    "df_funcion3=df_funcion3[(df_funcion3['recommend']==True) & ((df_funcion3['sentiment_analysis']==2) | (df_funcion3['sentiment_analysis']==1))]"
   ]
  },
  {
   "cell_type": "code",
   "execution_count": 180,
   "metadata": {},
   "outputs": [],
   "source": [
    "df_funcion3=df_funcion3.loc[:,['id_juego','title','año_posted_review','recommend']]"
   ]
  },
  {
   "cell_type": "code",
   "execution_count": 181,
   "metadata": {},
   "outputs": [
    {
     "data": {
      "text/html": [
       "<div>\n",
       "<style scoped>\n",
       "    .dataframe tbody tr th:only-of-type {\n",
       "        vertical-align: middle;\n",
       "    }\n",
       "\n",
       "    .dataframe tbody tr th {\n",
       "        vertical-align: top;\n",
       "    }\n",
       "\n",
       "    .dataframe thead th {\n",
       "        text-align: right;\n",
       "    }\n",
       "</style>\n",
       "<table border=\"1\" class=\"dataframe\">\n",
       "  <thead>\n",
       "    <tr style=\"text-align: right;\">\n",
       "      <th></th>\n",
       "      <th>id_juego</th>\n",
       "      <th>title</th>\n",
       "      <th>año_posted_review</th>\n",
       "      <th>recommend</th>\n",
       "    </tr>\n",
       "  </thead>\n",
       "  <tbody>\n",
       "    <tr>\n",
       "      <th>0</th>\n",
       "      <td>1250</td>\n",
       "      <td>Killing Floor</td>\n",
       "      <td>2011</td>\n",
       "      <td>True</td>\n",
       "    </tr>\n",
       "    <tr>\n",
       "      <th>1</th>\n",
       "      <td>22200</td>\n",
       "      <td>Zeno Clash</td>\n",
       "      <td>2011</td>\n",
       "      <td>True</td>\n",
       "    </tr>\n",
       "    <tr>\n",
       "      <th>2</th>\n",
       "      <td>22200</td>\n",
       "      <td>Zeno Clash</td>\n",
       "      <td>2011</td>\n",
       "      <td>True</td>\n",
       "    </tr>\n",
       "    <tr>\n",
       "      <th>3</th>\n",
       "      <td>43110</td>\n",
       "      <td>NaN</td>\n",
       "      <td>2011</td>\n",
       "      <td>True</td>\n",
       "    </tr>\n",
       "    <tr>\n",
       "      <th>4</th>\n",
       "      <td>251610</td>\n",
       "      <td>NaN</td>\n",
       "      <td>2014</td>\n",
       "      <td>True</td>\n",
       "    </tr>\n",
       "    <tr>\n",
       "      <th>...</th>\n",
       "      <td>...</td>\n",
       "      <td>...</td>\n",
       "      <td>...</td>\n",
       "      <td>...</td>\n",
       "    </tr>\n",
       "    <tr>\n",
       "      <th>107589</th>\n",
       "      <td>730</td>\n",
       "      <td>Counter-Strike: Global Offensive</td>\n",
       "      <td>2015</td>\n",
       "      <td>True</td>\n",
       "    </tr>\n",
       "    <tr>\n",
       "      <th>107590</th>\n",
       "      <td>730</td>\n",
       "      <td>Counter-Strike: Global Offensive</td>\n",
       "      <td>2015</td>\n",
       "      <td>True</td>\n",
       "    </tr>\n",
       "    <tr>\n",
       "      <th>107591</th>\n",
       "      <td>253980</td>\n",
       "      <td>Enclave</td>\n",
       "      <td>2015</td>\n",
       "      <td>True</td>\n",
       "    </tr>\n",
       "    <tr>\n",
       "      <th>107593</th>\n",
       "      <td>730</td>\n",
       "      <td>Counter-Strike: Global Offensive</td>\n",
       "      <td>2015</td>\n",
       "      <td>True</td>\n",
       "    </tr>\n",
       "    <tr>\n",
       "      <th>107594</th>\n",
       "      <td>369200</td>\n",
       "      <td>NaN</td>\n",
       "      <td>2015</td>\n",
       "      <td>True</td>\n",
       "    </tr>\n",
       "  </tbody>\n",
       "</table>\n",
       "<p>78987 rows × 4 columns</p>\n",
       "</div>"
      ],
      "text/plain": [
       "        id_juego                             title  año_posted_review  \\\n",
       "0           1250                     Killing Floor               2011   \n",
       "1          22200                        Zeno Clash               2011   \n",
       "2          22200                        Zeno Clash               2011   \n",
       "3          43110                               NaN               2011   \n",
       "4         251610                               NaN               2014   \n",
       "...          ...                               ...                ...   \n",
       "107589       730  Counter-Strike: Global Offensive               2015   \n",
       "107590       730  Counter-Strike: Global Offensive               2015   \n",
       "107591    253980                           Enclave               2015   \n",
       "107593       730  Counter-Strike: Global Offensive               2015   \n",
       "107594    369200                               NaN               2015   \n",
       "\n",
       "        recommend  \n",
       "0            True  \n",
       "1            True  \n",
       "2            True  \n",
       "3            True  \n",
       "4            True  \n",
       "...           ...  \n",
       "107589       True  \n",
       "107590       True  \n",
       "107591       True  \n",
       "107593       True  \n",
       "107594       True  \n",
       "\n",
       "[78987 rows x 4 columns]"
      ]
     },
     "execution_count": 181,
     "metadata": {},
     "output_type": "execute_result"
    }
   ],
   "source": [
    "df_funcion3"
   ]
  },
  {
   "cell_type": "code",
   "execution_count": 182,
   "metadata": {},
   "outputs": [],
   "source": [
    "df_funcion3=df_funcion3.groupby(by=['id_juego','title','año_posted_review']).count()"
   ]
  },
  {
   "cell_type": "code",
   "execution_count": 183,
   "metadata": {},
   "outputs": [],
   "source": [
    "df_funcion3.reset_index(inplace=True)"
   ]
  },
  {
   "cell_type": "code",
   "execution_count": 184,
   "metadata": {},
   "outputs": [
    {
     "data": {
      "text/html": [
       "<div>\n",
       "<style scoped>\n",
       "    .dataframe tbody tr th:only-of-type {\n",
       "        vertical-align: middle;\n",
       "    }\n",
       "\n",
       "    .dataframe tbody tr th {\n",
       "        vertical-align: top;\n",
       "    }\n",
       "\n",
       "    .dataframe thead th {\n",
       "        text-align: right;\n",
       "    }\n",
       "</style>\n",
       "<table border=\"1\" class=\"dataframe\">\n",
       "  <thead>\n",
       "    <tr style=\"text-align: right;\">\n",
       "      <th></th>\n",
       "      <th>id_juego</th>\n",
       "      <th>title</th>\n",
       "      <th>año_posted_review</th>\n",
       "      <th>recommend</th>\n",
       "    </tr>\n",
       "  </thead>\n",
       "  <tbody>\n",
       "    <tr>\n",
       "      <th>0</th>\n",
       "      <td>10</td>\n",
       "      <td>Counter-Strike</td>\n",
       "      <td>2011</td>\n",
       "      <td>1</td>\n",
       "    </tr>\n",
       "    <tr>\n",
       "      <th>1</th>\n",
       "      <td>10</td>\n",
       "      <td>Counter-Strike</td>\n",
       "      <td>2012</td>\n",
       "      <td>3</td>\n",
       "    </tr>\n",
       "    <tr>\n",
       "      <th>2</th>\n",
       "      <td>10</td>\n",
       "      <td>Counter-Strike</td>\n",
       "      <td>2013</td>\n",
       "      <td>7</td>\n",
       "    </tr>\n",
       "    <tr>\n",
       "      <th>3</th>\n",
       "      <td>10</td>\n",
       "      <td>Counter-Strike</td>\n",
       "      <td>2014</td>\n",
       "      <td>18</td>\n",
       "    </tr>\n",
       "    <tr>\n",
       "      <th>4</th>\n",
       "      <td>10</td>\n",
       "      <td>Counter-Strike</td>\n",
       "      <td>2015</td>\n",
       "      <td>15</td>\n",
       "    </tr>\n",
       "    <tr>\n",
       "      <th>...</th>\n",
       "      <td>...</td>\n",
       "      <td>...</td>\n",
       "      <td>...</td>\n",
       "      <td>...</td>\n",
       "    </tr>\n",
       "    <tr>\n",
       "      <th>3314</th>\n",
       "      <td>419070</td>\n",
       "      <td>Warhammer: End Times - Vermintide Sigmar's Ble...</td>\n",
       "      <td>2015</td>\n",
       "      <td>6</td>\n",
       "    </tr>\n",
       "    <tr>\n",
       "      <th>3315</th>\n",
       "      <td>421630</td>\n",
       "      <td>A Study in Steampunk: Choice by Gaslight</td>\n",
       "      <td>2015</td>\n",
       "      <td>2</td>\n",
       "    </tr>\n",
       "    <tr>\n",
       "      <th>3316</th>\n",
       "      <td>423120</td>\n",
       "      <td>Community College Hero: Trial by Fire</td>\n",
       "      <td>2015</td>\n",
       "      <td>2</td>\n",
       "    </tr>\n",
       "    <tr>\n",
       "      <th>3317</th>\n",
       "      <td>423880</td>\n",
       "      <td>Carpe Diem</td>\n",
       "      <td>2015</td>\n",
       "      <td>27</td>\n",
       "    </tr>\n",
       "    <tr>\n",
       "      <th>3318</th>\n",
       "      <td>428880</td>\n",
       "      <td>The Quest</td>\n",
       "      <td>2015</td>\n",
       "      <td>3</td>\n",
       "    </tr>\n",
       "  </tbody>\n",
       "</table>\n",
       "<p>3319 rows × 4 columns</p>\n",
       "</div>"
      ],
      "text/plain": [
       "      id_juego                                              title  \\\n",
       "0           10                                     Counter-Strike   \n",
       "1           10                                     Counter-Strike   \n",
       "2           10                                     Counter-Strike   \n",
       "3           10                                     Counter-Strike   \n",
       "4           10                                     Counter-Strike   \n",
       "...        ...                                                ...   \n",
       "3314    419070  Warhammer: End Times - Vermintide Sigmar's Ble...   \n",
       "3315    421630           A Study in Steampunk: Choice by Gaslight   \n",
       "3316    423120              Community College Hero: Trial by Fire   \n",
       "3317    423880                                         Carpe Diem   \n",
       "3318    428880                                          The Quest   \n",
       "\n",
       "      año_posted_review  recommend  \n",
       "0                  2011          1  \n",
       "1                  2012          3  \n",
       "2                  2013          7  \n",
       "3                  2014         18  \n",
       "4                  2015         15  \n",
       "...                 ...        ...  \n",
       "3314               2015          6  \n",
       "3315               2015          2  \n",
       "3316               2015          2  \n",
       "3317               2015         27  \n",
       "3318               2015          3  \n",
       "\n",
       "[3319 rows x 4 columns]"
      ]
     },
     "execution_count": 184,
     "metadata": {},
     "output_type": "execute_result"
    }
   ],
   "source": [
    "df_funcion3"
   ]
  },
  {
   "cell_type": "code",
   "execution_count": 185,
   "metadata": {},
   "outputs": [],
   "source": [
    "df_funcion3=df_funcion3.loc[:,['año_posted_review','id_juego','title','recommend']]  # reordear data set a fines de mejor lectura "
   ]
  },
  {
   "cell_type": "code",
   "execution_count": 186,
   "metadata": {},
   "outputs": [
    {
     "data": {
      "text/html": [
       "<div>\n",
       "<style scoped>\n",
       "    .dataframe tbody tr th:only-of-type {\n",
       "        vertical-align: middle;\n",
       "    }\n",
       "\n",
       "    .dataframe tbody tr th {\n",
       "        vertical-align: top;\n",
       "    }\n",
       "\n",
       "    .dataframe thead th {\n",
       "        text-align: right;\n",
       "    }\n",
       "</style>\n",
       "<table border=\"1\" class=\"dataframe\">\n",
       "  <thead>\n",
       "    <tr style=\"text-align: right;\">\n",
       "      <th></th>\n",
       "      <th>año_posted_review</th>\n",
       "      <th>id_juego</th>\n",
       "      <th>title</th>\n",
       "      <th>recommend</th>\n",
       "    </tr>\n",
       "  </thead>\n",
       "  <tbody>\n",
       "    <tr>\n",
       "      <th>429</th>\n",
       "      <td>2010</td>\n",
       "      <td>13570</td>\n",
       "      <td>Tom Clancy's Splinter Cell Chaos Theory®</td>\n",
       "      <td>1</td>\n",
       "    </tr>\n",
       "    <tr>\n",
       "      <th>810</th>\n",
       "      <td>2010</td>\n",
       "      <td>39690</td>\n",
       "      <td>ArcaniA</td>\n",
       "      <td>1</td>\n",
       "    </tr>\n",
       "    <tr>\n",
       "      <th>620</th>\n",
       "      <td>2010</td>\n",
       "      <td>24010</td>\n",
       "      <td>Train Simulator</td>\n",
       "      <td>1</td>\n",
       "    </tr>\n",
       "    <tr>\n",
       "      <th>608</th>\n",
       "      <td>2010</td>\n",
       "      <td>22600</td>\n",
       "      <td>Worms Reloaded</td>\n",
       "      <td>2</td>\n",
       "    </tr>\n",
       "    <tr>\n",
       "      <th>32</th>\n",
       "      <td>2010</td>\n",
       "      <td>240</td>\n",
       "      <td>Counter-Strike: Source</td>\n",
       "      <td>2</td>\n",
       "    </tr>\n",
       "    <tr>\n",
       "      <th>...</th>\n",
       "      <td>...</td>\n",
       "      <td>...</td>\n",
       "      <td>...</td>\n",
       "      <td>...</td>\n",
       "    </tr>\n",
       "    <tr>\n",
       "      <th>1888</th>\n",
       "      <td>2015</td>\n",
       "      <td>233450</td>\n",
       "      <td>Prison Architect</td>\n",
       "      <td>105</td>\n",
       "    </tr>\n",
       "    <tr>\n",
       "      <th>1883</th>\n",
       "      <td>2015</td>\n",
       "      <td>233290</td>\n",
       "      <td>Murdered: Soul Suspect</td>\n",
       "      <td>6</td>\n",
       "    </tr>\n",
       "    <tr>\n",
       "      <th>1881</th>\n",
       "      <td>2015</td>\n",
       "      <td>233270</td>\n",
       "      <td>Far Cry 3 - Blood Dragon</td>\n",
       "      <td>2</td>\n",
       "    </tr>\n",
       "    <tr>\n",
       "      <th>1875</th>\n",
       "      <td>2015</td>\n",
       "      <td>233130</td>\n",
       "      <td>Shadow Warrior</td>\n",
       "      <td>12</td>\n",
       "    </tr>\n",
       "    <tr>\n",
       "      <th>3318</th>\n",
       "      <td>2015</td>\n",
       "      <td>428880</td>\n",
       "      <td>The Quest</td>\n",
       "      <td>3</td>\n",
       "    </tr>\n",
       "  </tbody>\n",
       "</table>\n",
       "<p>3319 rows × 4 columns</p>\n",
       "</div>"
      ],
      "text/plain": [
       "      año_posted_review  id_juego                                     title  \\\n",
       "429                2010     13570  Tom Clancy's Splinter Cell Chaos Theory®   \n",
       "810                2010     39690                                   ArcaniA   \n",
       "620                2010     24010                           Train Simulator   \n",
       "608                2010     22600                            Worms Reloaded   \n",
       "32                 2010       240                    Counter-Strike: Source   \n",
       "...                 ...       ...                                       ...   \n",
       "1888               2015    233450                          Prison Architect   \n",
       "1883               2015    233290                    Murdered: Soul Suspect   \n",
       "1881               2015    233270                  Far Cry 3 - Blood Dragon   \n",
       "1875               2015    233130                            Shadow Warrior   \n",
       "3318               2015    428880                                 The Quest   \n",
       "\n",
       "      recommend  \n",
       "429           1  \n",
       "810           1  \n",
       "620           1  \n",
       "608           2  \n",
       "32            2  \n",
       "...         ...  \n",
       "1888        105  \n",
       "1883          6  \n",
       "1881          2  \n",
       "1875         12  \n",
       "3318          3  \n",
       "\n",
       "[3319 rows x 4 columns]"
      ]
     },
     "execution_count": 186,
     "metadata": {},
     "output_type": "execute_result"
    }
   ],
   "source": [
    "df_funcion3.sort_values(by='año_posted_review',ascending=True)  # EXPLORACION , trabajar con este dataset, tomarlo como definitivo"
   ]
  },
  {
   "cell_type": "code",
   "execution_count": 187,
   "metadata": {},
   "outputs": [],
   "source": [
    "# Exportar dataframe a csv con el que voy a trabajar definitivamente la funcion 3\n",
    "\n",
    "df_funcion3.to_csv('funcion3.csv',index=False)"
   ]
  },
  {
   "cell_type": "code",
   "execution_count": 188,
   "metadata": {},
   "outputs": [
    {
     "data": {
      "text/html": [
       "<div>\n",
       "<style scoped>\n",
       "    .dataframe tbody tr th:only-of-type {\n",
       "        vertical-align: middle;\n",
       "    }\n",
       "\n",
       "    .dataframe tbody tr th {\n",
       "        vertical-align: top;\n",
       "    }\n",
       "\n",
       "    .dataframe thead th {\n",
       "        text-align: right;\n",
       "    }\n",
       "</style>\n",
       "<table border=\"1\" class=\"dataframe\">\n",
       "  <thead>\n",
       "    <tr style=\"text-align: right;\">\n",
       "      <th></th>\n",
       "      <th>año_posted_review</th>\n",
       "      <th>id_juego</th>\n",
       "      <th>title</th>\n",
       "      <th>recommend</th>\n",
       "    </tr>\n",
       "  </thead>\n",
       "  <tbody>\n",
       "    <tr>\n",
       "      <th>0</th>\n",
       "      <td>2011</td>\n",
       "      <td>10</td>\n",
       "      <td>Counter-Strike</td>\n",
       "      <td>1</td>\n",
       "    </tr>\n",
       "    <tr>\n",
       "      <th>1</th>\n",
       "      <td>2012</td>\n",
       "      <td>10</td>\n",
       "      <td>Counter-Strike</td>\n",
       "      <td>3</td>\n",
       "    </tr>\n",
       "    <tr>\n",
       "      <th>2</th>\n",
       "      <td>2013</td>\n",
       "      <td>10</td>\n",
       "      <td>Counter-Strike</td>\n",
       "      <td>7</td>\n",
       "    </tr>\n",
       "    <tr>\n",
       "      <th>3</th>\n",
       "      <td>2014</td>\n",
       "      <td>10</td>\n",
       "      <td>Counter-Strike</td>\n",
       "      <td>18</td>\n",
       "    </tr>\n",
       "    <tr>\n",
       "      <th>4</th>\n",
       "      <td>2015</td>\n",
       "      <td>10</td>\n",
       "      <td>Counter-Strike</td>\n",
       "      <td>15</td>\n",
       "    </tr>\n",
       "    <tr>\n",
       "      <th>5</th>\n",
       "      <td>2014</td>\n",
       "      <td>20</td>\n",
       "      <td>Team Fortress Classic</td>\n",
       "      <td>4</td>\n",
       "    </tr>\n",
       "    <tr>\n",
       "      <th>6</th>\n",
       "      <td>2015</td>\n",
       "      <td>20</td>\n",
       "      <td>Team Fortress Classic</td>\n",
       "      <td>5</td>\n",
       "    </tr>\n",
       "  </tbody>\n",
       "</table>\n",
       "</div>"
      ],
      "text/plain": [
       "   año_posted_review  id_juego                  title  recommend\n",
       "0               2011        10         Counter-Strike          1\n",
       "1               2012        10         Counter-Strike          3\n",
       "2               2013        10         Counter-Strike          7\n",
       "3               2014        10         Counter-Strike         18\n",
       "4               2015        10         Counter-Strike         15\n",
       "5               2014        20  Team Fortress Classic          4\n",
       "6               2015        20  Team Fortress Classic          5"
      ]
     },
     "execution_count": 188,
     "metadata": {},
     "output_type": "execute_result"
    }
   ],
   "source": [
    "df_funcion3.head(7)"
   ]
  },
  {
   "cell_type": "code",
   "execution_count": 189,
   "metadata": {},
   "outputs": [
    {
     "data": {
      "text/html": [
       "<div>\n",
       "<style scoped>\n",
       "    .dataframe tbody tr th:only-of-type {\n",
       "        vertical-align: middle;\n",
       "    }\n",
       "\n",
       "    .dataframe tbody tr th {\n",
       "        vertical-align: top;\n",
       "    }\n",
       "\n",
       "    .dataframe thead th {\n",
       "        text-align: right;\n",
       "    }\n",
       "</style>\n",
       "<table border=\"1\" class=\"dataframe\">\n",
       "  <thead>\n",
       "    <tr style=\"text-align: right;\">\n",
       "      <th></th>\n",
       "      <th>año_posted_review</th>\n",
       "      <th>id_juego</th>\n",
       "      <th>title</th>\n",
       "      <th>recommend</th>\n",
       "    </tr>\n",
       "  </thead>\n",
       "  <tbody>\n",
       "    <tr>\n",
       "      <th>69</th>\n",
       "      <td>2013</td>\n",
       "      <td>440</td>\n",
       "      <td>Team Fortress 2</td>\n",
       "      <td>1410</td>\n",
       "    </tr>\n",
       "    <tr>\n",
       "      <th>187</th>\n",
       "      <td>2013</td>\n",
       "      <td>4000</td>\n",
       "      <td>Garry's Mod</td>\n",
       "      <td>548</td>\n",
       "    </tr>\n",
       "    <tr>\n",
       "      <th>1174</th>\n",
       "      <td>2013</td>\n",
       "      <td>105600</td>\n",
       "      <td>Terraria</td>\n",
       "      <td>508</td>\n",
       "    </tr>\n",
       "  </tbody>\n",
       "</table>\n",
       "</div>"
      ],
      "text/plain": [
       "      año_posted_review  id_juego            title  recommend\n",
       "69                 2013       440  Team Fortress 2       1410\n",
       "187                2013      4000      Garry's Mod        548\n",
       "1174               2013    105600         Terraria        508"
      ]
     },
     "execution_count": 189,
     "metadata": {},
     "output_type": "execute_result"
    }
   ],
   "source": [
    "df_funcion3[df_funcion3['año_posted_review']==2013].nlargest(3,'recommend')\n",
    "\n"
   ]
  },
  {
   "cell_type": "code",
   "execution_count": 190,
   "metadata": {},
   "outputs": [],
   "source": [
    "def UsersRecommend( año : int ): # Devuelve el top 3 de juegos MÁS recomendados por usuarios para el año dado. (reviews.recommend = True y comentarios positivos/neutrales)\n",
    "    try:\n",
    "        df_top3=df_funcion3[df_funcion3['año_posted_review']==año].nlargest(3,'recommend')\n",
    "        return [{'Puesto 1': df_top3['title'].iloc[0]},{'Puesto 2:': df_top3['title'].iloc[1]},{'Puesto 3:': df_top3['title'].iloc[2]}]\n",
    "\n",
    "    except Exception:\n",
    "        return {'No existen datos para el valor ingresado'}\n",
    "    \n",
    "#Ejemplo de retorno: [{\"Puesto 1\" : X}, {\"Puesto 2\" : Y},{\"Puesto 3\" : Z}]"
   ]
  },
  {
   "cell_type": "code",
   "execution_count": 191,
   "metadata": {},
   "outputs": [
    {
     "data": {
      "text/plain": [
       "[{'Puesto 1': 'Counter-Strike: Global Offensive'},\n",
       " {'Puesto 2:': 'Unturned'},\n",
       " {'Puesto 3:': 'Team Fortress 2'}]"
      ]
     },
     "execution_count": 191,
     "metadata": {},
     "output_type": "execute_result"
    }
   ],
   "source": [
    "UsersRecommend(2015)"
   ]
  },
  {
   "cell_type": "markdown",
   "metadata": {},
   "source": [
    "##### **Funcion 4** ______________________________________________________________________________________________________________________________________________________________________________"
   ]
  },
  {
   "cell_type": "code",
   "execution_count": 192,
   "metadata": {},
   "outputs": [],
   "source": [
    "df_funcion4=pd.merge(df_user_reviews,df_user_items,on=['user_id','id_juego'],how='left').merge(df_steam_games,on='id_juego',how='left')"
   ]
  },
  {
   "cell_type": "code",
   "execution_count": 193,
   "metadata": {},
   "outputs": [],
   "source": [
    "df_funcion4=df_funcion4[(df_funcion4['recommend']==False) & (df_funcion4['sentiment_analysis']==0)]"
   ]
  },
  {
   "cell_type": "code",
   "execution_count": 194,
   "metadata": {},
   "outputs": [],
   "source": [
    "df_funcion4=df_funcion4.loc[:,['año_posted_review','id_juego','title','recommend']]"
   ]
  },
  {
   "cell_type": "code",
   "execution_count": 195,
   "metadata": {},
   "outputs": [],
   "source": [
    "df_funcion4=df_funcion4.groupby(by=['año_posted_review','id_juego','title']).count()"
   ]
  },
  {
   "cell_type": "code",
   "execution_count": 196,
   "metadata": {},
   "outputs": [],
   "source": [
    "df_funcion4.reset_index(inplace=True)"
   ]
  },
  {
   "cell_type": "code",
   "execution_count": 197,
   "metadata": {},
   "outputs": [
    {
     "data": {
      "text/html": [
       "<div>\n",
       "<style scoped>\n",
       "    .dataframe tbody tr th:only-of-type {\n",
       "        vertical-align: middle;\n",
       "    }\n",
       "\n",
       "    .dataframe tbody tr th {\n",
       "        vertical-align: top;\n",
       "    }\n",
       "\n",
       "    .dataframe thead th {\n",
       "        text-align: right;\n",
       "    }\n",
       "</style>\n",
       "<table border=\"1\" class=\"dataframe\">\n",
       "  <thead>\n",
       "    <tr style=\"text-align: right;\">\n",
       "      <th></th>\n",
       "      <th>año_posted_review</th>\n",
       "      <th>id_juego</th>\n",
       "      <th>title</th>\n",
       "      <th>recommend</th>\n",
       "    </tr>\n",
       "  </thead>\n",
       "  <tbody>\n",
       "    <tr>\n",
       "      <th>0</th>\n",
       "      <td>2011</td>\n",
       "      <td>440</td>\n",
       "      <td>Team Fortress 2</td>\n",
       "      <td>2</td>\n",
       "    </tr>\n",
       "    <tr>\n",
       "      <th>1</th>\n",
       "      <td>2011</td>\n",
       "      <td>18700</td>\n",
       "      <td>And Yet It Moves</td>\n",
       "      <td>4</td>\n",
       "    </tr>\n",
       "    <tr>\n",
       "      <th>2</th>\n",
       "      <td>2011</td>\n",
       "      <td>33460</td>\n",
       "      <td>From Dust</td>\n",
       "      <td>2</td>\n",
       "    </tr>\n",
       "    <tr>\n",
       "      <th>3</th>\n",
       "      <td>2011</td>\n",
       "      <td>63940</td>\n",
       "      <td>Men of War: Vietnam</td>\n",
       "      <td>1</td>\n",
       "    </tr>\n",
       "    <tr>\n",
       "      <th>4</th>\n",
       "      <td>2012</td>\n",
       "      <td>440</td>\n",
       "      <td>Team Fortress 2</td>\n",
       "      <td>2</td>\n",
       "    </tr>\n",
       "    <tr>\n",
       "      <th>...</th>\n",
       "      <td>...</td>\n",
       "      <td>...</td>\n",
       "      <td>...</td>\n",
       "      <td>...</td>\n",
       "    </tr>\n",
       "    <tr>\n",
       "      <th>815</th>\n",
       "      <td>2015</td>\n",
       "      <td>409510</td>\n",
       "      <td>Genesis Online</td>\n",
       "      <td>2</td>\n",
       "    </tr>\n",
       "    <tr>\n",
       "      <th>816</th>\n",
       "      <td>2015</td>\n",
       "      <td>410340</td>\n",
       "      <td>Liftoff</td>\n",
       "      <td>5</td>\n",
       "    </tr>\n",
       "    <tr>\n",
       "      <th>817</th>\n",
       "      <td>2015</td>\n",
       "      <td>412400</td>\n",
       "      <td>GASP</td>\n",
       "      <td>6</td>\n",
       "    </tr>\n",
       "    <tr>\n",
       "      <th>818</th>\n",
       "      <td>2015</td>\n",
       "      <td>417860</td>\n",
       "      <td>Emily is Away</td>\n",
       "      <td>20</td>\n",
       "    </tr>\n",
       "    <tr>\n",
       "      <th>819</th>\n",
       "      <td>2015</td>\n",
       "      <td>421890</td>\n",
       "      <td>Avaris 2: The Return of the Empress</td>\n",
       "      <td>3</td>\n",
       "    </tr>\n",
       "  </tbody>\n",
       "</table>\n",
       "<p>820 rows × 4 columns</p>\n",
       "</div>"
      ],
      "text/plain": [
       "     año_posted_review  id_juego                                title  \\\n",
       "0                 2011       440                      Team Fortress 2   \n",
       "1                 2011     18700                     And Yet It Moves   \n",
       "2                 2011     33460                            From Dust   \n",
       "3                 2011     63940                  Men of War: Vietnam   \n",
       "4                 2012       440                      Team Fortress 2   \n",
       "..                 ...       ...                                  ...   \n",
       "815               2015    409510                       Genesis Online   \n",
       "816               2015    410340                              Liftoff   \n",
       "817               2015    412400                                 GASP   \n",
       "818               2015    417860                        Emily is Away   \n",
       "819               2015    421890  Avaris 2: The Return of the Empress   \n",
       "\n",
       "     recommend  \n",
       "0            2  \n",
       "1            4  \n",
       "2            2  \n",
       "3            1  \n",
       "4            2  \n",
       "..         ...  \n",
       "815          2  \n",
       "816          5  \n",
       "817          6  \n",
       "818         20  \n",
       "819          3  \n",
       "\n",
       "[820 rows x 4 columns]"
      ]
     },
     "execution_count": 197,
     "metadata": {},
     "output_type": "execute_result"
    }
   ],
   "source": [
    "df_funcion4  # data listao para hacer la funcion , deberia eliminar los nulos y revisar un poco "
   ]
  },
  {
   "cell_type": "code",
   "execution_count": 198,
   "metadata": {},
   "outputs": [],
   "source": [
    "df_funcion4.to_csv('funcion4.csv',index=False) # pasar a csv "
   ]
  },
  {
   "cell_type": "code",
   "execution_count": 199,
   "metadata": {},
   "outputs": [
    {
     "data": {
      "text/html": [
       "<div>\n",
       "<style scoped>\n",
       "    .dataframe tbody tr th:only-of-type {\n",
       "        vertical-align: middle;\n",
       "    }\n",
       "\n",
       "    .dataframe tbody tr th {\n",
       "        vertical-align: top;\n",
       "    }\n",
       "\n",
       "    .dataframe thead th {\n",
       "        text-align: right;\n",
       "    }\n",
       "</style>\n",
       "<table border=\"1\" class=\"dataframe\">\n",
       "  <thead>\n",
       "    <tr style=\"text-align: right;\">\n",
       "      <th></th>\n",
       "      <th>año_posted_review</th>\n",
       "      <th>id_juego</th>\n",
       "      <th>title</th>\n",
       "      <th>recommend</th>\n",
       "    </tr>\n",
       "  </thead>\n",
       "  <tbody>\n",
       "    <tr>\n",
       "      <th>0</th>\n",
       "      <td>2011</td>\n",
       "      <td>440</td>\n",
       "      <td>Team Fortress 2</td>\n",
       "      <td>2</td>\n",
       "    </tr>\n",
       "    <tr>\n",
       "      <th>1</th>\n",
       "      <td>2011</td>\n",
       "      <td>18700</td>\n",
       "      <td>And Yet It Moves</td>\n",
       "      <td>4</td>\n",
       "    </tr>\n",
       "    <tr>\n",
       "      <th>2</th>\n",
       "      <td>2011</td>\n",
       "      <td>33460</td>\n",
       "      <td>From Dust</td>\n",
       "      <td>2</td>\n",
       "    </tr>\n",
       "    <tr>\n",
       "      <th>3</th>\n",
       "      <td>2011</td>\n",
       "      <td>63940</td>\n",
       "      <td>Men of War: Vietnam</td>\n",
       "      <td>1</td>\n",
       "    </tr>\n",
       "    <tr>\n",
       "      <th>4</th>\n",
       "      <td>2012</td>\n",
       "      <td>440</td>\n",
       "      <td>Team Fortress 2</td>\n",
       "      <td>2</td>\n",
       "    </tr>\n",
       "  </tbody>\n",
       "</table>\n",
       "</div>"
      ],
      "text/plain": [
       "   año_posted_review  id_juego                title  recommend\n",
       "0               2011       440      Team Fortress 2          2\n",
       "1               2011     18700     And Yet It Moves          4\n",
       "2               2011     33460            From Dust          2\n",
       "3               2011     63940  Men of War: Vietnam          1\n",
       "4               2012       440      Team Fortress 2          2"
      ]
     },
     "execution_count": 199,
     "metadata": {},
     "output_type": "execute_result"
    }
   ],
   "source": [
    "df_funcion4.head(5)"
   ]
  },
  {
   "cell_type": "code",
   "execution_count": 200,
   "metadata": {},
   "outputs": [],
   "source": [
    "def UsersNotRecommend( año : int ): # Devuelve el top 3 de juegos MENOS recomendados por usuarios para el año dado. (reviews.recommend = False y comentarios negativos)\n",
    "    try:\n",
    "        df_top3=df_funcion3[df_funcion3['año_posted_review']==año].nsmallest(3,'recommend')\n",
    "        return [{'Puesto 1': df_top3['title'].iloc[0]},{'Puesto 2:': df_top3['title'].iloc[1]},{'Puesto 3:': df_top3['title'].iloc[2]}]\n",
    "\n",
    "    except Exception:\n",
    "        return {'No existen datos para el valor ingresado'}\n",
    "\n",
    "# Ejemplo de retorno: [{\"Puesto 1\" : X}, {\"Puesto 2\" : Y},{\"Puesto 3\" : Z}]"
   ]
  },
  {
   "cell_type": "code",
   "execution_count": 201,
   "metadata": {},
   "outputs": [
    {
     "data": {
      "text/plain": [
       "[{'Puesto 1': 'Day of Defeat'},\n",
       " {'Puesto 2:': 'Half-Life: Opposing Force'},\n",
       " {'Puesto 3:': 'Ricochet'}]"
      ]
     },
     "execution_count": 201,
     "metadata": {},
     "output_type": "execute_result"
    }
   ],
   "source": [
    "UsersNotRecommend(2013)"
   ]
  },
  {
   "cell_type": "markdown",
   "metadata": {},
   "source": [
    "##### **Funcion 5** ______________________________________________________________________________________________________________________________________________________________________________"
   ]
  },
  {
   "cell_type": "code",
   "execution_count": 202,
   "metadata": {},
   "outputs": [
    {
     "data": {
      "text/html": [
       "<div>\n",
       "<style scoped>\n",
       "    .dataframe tbody tr th:only-of-type {\n",
       "        vertical-align: middle;\n",
       "    }\n",
       "\n",
       "    .dataframe tbody tr th {\n",
       "        vertical-align: top;\n",
       "    }\n",
       "\n",
       "    .dataframe thead th {\n",
       "        text-align: right;\n",
       "    }\n",
       "</style>\n",
       "<table border=\"1\" class=\"dataframe\">\n",
       "  <thead>\n",
       "    <tr style=\"text-align: right;\">\n",
       "      <th></th>\n",
       "      <th>publisher</th>\n",
       "      <th>genero</th>\n",
       "      <th>title</th>\n",
       "      <th>fecha_lanzamiento</th>\n",
       "      <th>price</th>\n",
       "      <th>early_access</th>\n",
       "      <th>id_juego</th>\n",
       "      <th>developer</th>\n",
       "      <th>año_lanzamiento</th>\n",
       "    </tr>\n",
       "  </thead>\n",
       "  <tbody>\n",
       "    <tr>\n",
       "      <th>0</th>\n",
       "      <td>Kotoshiro</td>\n",
       "      <td>Action</td>\n",
       "      <td>Lost Summoner Kitty</td>\n",
       "      <td>2018-01-04</td>\n",
       "      <td>4.99</td>\n",
       "      <td>False</td>\n",
       "      <td>761140</td>\n",
       "      <td>Kotoshiro</td>\n",
       "      <td>2018</td>\n",
       "    </tr>\n",
       "    <tr>\n",
       "      <th>1</th>\n",
       "      <td>Kotoshiro</td>\n",
       "      <td>Casual</td>\n",
       "      <td>Lost Summoner Kitty</td>\n",
       "      <td>2018-01-04</td>\n",
       "      <td>4.99</td>\n",
       "      <td>False</td>\n",
       "      <td>761140</td>\n",
       "      <td>Kotoshiro</td>\n",
       "      <td>2018</td>\n",
       "    </tr>\n",
       "    <tr>\n",
       "      <th>2</th>\n",
       "      <td>Kotoshiro</td>\n",
       "      <td>Indie</td>\n",
       "      <td>Lost Summoner Kitty</td>\n",
       "      <td>2018-01-04</td>\n",
       "      <td>4.99</td>\n",
       "      <td>False</td>\n",
       "      <td>761140</td>\n",
       "      <td>Kotoshiro</td>\n",
       "      <td>2018</td>\n",
       "    </tr>\n",
       "  </tbody>\n",
       "</table>\n",
       "</div>"
      ],
      "text/plain": [
       "   publisher  genero                title fecha_lanzamiento  price  \\\n",
       "0  Kotoshiro  Action  Lost Summoner Kitty        2018-01-04   4.99   \n",
       "1  Kotoshiro  Casual  Lost Summoner Kitty        2018-01-04   4.99   \n",
       "2  Kotoshiro   Indie  Lost Summoner Kitty        2018-01-04   4.99   \n",
       "\n",
       "   early_access  id_juego  developer  año_lanzamiento  \n",
       "0         False    761140  Kotoshiro             2018  \n",
       "1         False    761140  Kotoshiro             2018  \n",
       "2         False    761140  Kotoshiro             2018  "
      ]
     },
     "execution_count": 202,
     "metadata": {},
     "output_type": "execute_result"
    }
   ],
   "source": [
    "df_steam_games.head(3)\n"
   ]
  },
  {
   "cell_type": "code",
   "execution_count": 203,
   "metadata": {},
   "outputs": [
    {
     "data": {
      "text/html": [
       "<div>\n",
       "<style scoped>\n",
       "    .dataframe tbody tr th:only-of-type {\n",
       "        vertical-align: middle;\n",
       "    }\n",
       "\n",
       "    .dataframe tbody tr th {\n",
       "        vertical-align: top;\n",
       "    }\n",
       "\n",
       "    .dataframe thead th {\n",
       "        text-align: right;\n",
       "    }\n",
       "</style>\n",
       "<table border=\"1\" class=\"dataframe\">\n",
       "  <thead>\n",
       "    <tr style=\"text-align: right;\">\n",
       "      <th></th>\n",
       "      <th>user_id</th>\n",
       "      <th>items_count</th>\n",
       "      <th>id_juego</th>\n",
       "      <th>nombre_juego</th>\n",
       "      <th>timpo_total_jugado</th>\n",
       "      <th>tiempo_jugado_ultimas_2semanas</th>\n",
       "    </tr>\n",
       "  </thead>\n",
       "  <tbody>\n",
       "    <tr>\n",
       "      <th>0</th>\n",
       "      <td>76561197970982479</td>\n",
       "      <td>277</td>\n",
       "      <td>10</td>\n",
       "      <td>Counter-Strike</td>\n",
       "      <td>6</td>\n",
       "      <td>0</td>\n",
       "    </tr>\n",
       "    <tr>\n",
       "      <th>1</th>\n",
       "      <td>76561197970982479</td>\n",
       "      <td>277</td>\n",
       "      <td>20</td>\n",
       "      <td>Team Fortress Classic</td>\n",
       "      <td>0</td>\n",
       "      <td>0</td>\n",
       "    </tr>\n",
       "    <tr>\n",
       "      <th>2</th>\n",
       "      <td>76561197970982479</td>\n",
       "      <td>277</td>\n",
       "      <td>30</td>\n",
       "      <td>Day of Defeat</td>\n",
       "      <td>7</td>\n",
       "      <td>0</td>\n",
       "    </tr>\n",
       "  </tbody>\n",
       "</table>\n",
       "</div>"
      ],
      "text/plain": [
       "             user_id  items_count  id_juego           nombre_juego  \\\n",
       "0  76561197970982479          277        10         Counter-Strike   \n",
       "1  76561197970982479          277        20  Team Fortress Classic   \n",
       "2  76561197970982479          277        30          Day of Defeat   \n",
       "\n",
       "   timpo_total_jugado  tiempo_jugado_ultimas_2semanas  \n",
       "0                   6                               0  \n",
       "1                   0                               0  \n",
       "2                   7                               0  "
      ]
     },
     "execution_count": 203,
     "metadata": {},
     "output_type": "execute_result"
    }
   ],
   "source": [
    "df_user_items.head(3)\n"
   ]
  },
  {
   "cell_type": "code",
   "execution_count": 204,
   "metadata": {},
   "outputs": [
    {
     "data": {
      "text/html": [
       "<div>\n",
       "<style scoped>\n",
       "    .dataframe tbody tr th:only-of-type {\n",
       "        vertical-align: middle;\n",
       "    }\n",
       "\n",
       "    .dataframe tbody tr th {\n",
       "        vertical-align: top;\n",
       "    }\n",
       "\n",
       "    .dataframe thead th {\n",
       "        text-align: right;\n",
       "    }\n",
       "</style>\n",
       "<table border=\"1\" class=\"dataframe\">\n",
       "  <thead>\n",
       "    <tr style=\"text-align: right;\">\n",
       "      <th></th>\n",
       "      <th>user_id</th>\n",
       "      <th>id_juego</th>\n",
       "      <th>helpful</th>\n",
       "      <th>recommend</th>\n",
       "      <th>sentiment_analysis</th>\n",
       "      <th>review_posted</th>\n",
       "      <th>año_posted_review</th>\n",
       "    </tr>\n",
       "  </thead>\n",
       "  <tbody>\n",
       "    <tr>\n",
       "      <th>0</th>\n",
       "      <td>76561197970982479</td>\n",
       "      <td>1250</td>\n",
       "      <td>No ratings yet</td>\n",
       "      <td>True</td>\n",
       "      <td>2</td>\n",
       "      <td>2011-11-05</td>\n",
       "      <td>2011</td>\n",
       "    </tr>\n",
       "    <tr>\n",
       "      <th>1</th>\n",
       "      <td>76561197970982479</td>\n",
       "      <td>22200</td>\n",
       "      <td>No ratings yet</td>\n",
       "      <td>True</td>\n",
       "      <td>2</td>\n",
       "      <td>2011-07-15</td>\n",
       "      <td>2011</td>\n",
       "    </tr>\n",
       "    <tr>\n",
       "      <th>2</th>\n",
       "      <td>76561197970982479</td>\n",
       "      <td>43110</td>\n",
       "      <td>No ratings yet</td>\n",
       "      <td>True</td>\n",
       "      <td>2</td>\n",
       "      <td>2011-04-21</td>\n",
       "      <td>2011</td>\n",
       "    </tr>\n",
       "  </tbody>\n",
       "</table>\n",
       "</div>"
      ],
      "text/plain": [
       "             user_id  id_juego         helpful  recommend  sentiment_analysis  \\\n",
       "0  76561197970982479      1250  No ratings yet       True                   2   \n",
       "1  76561197970982479     22200  No ratings yet       True                   2   \n",
       "2  76561197970982479     43110  No ratings yet       True                   2   \n",
       "\n",
       "  review_posted  año_posted_review  \n",
       "0    2011-11-05               2011  \n",
       "1    2011-07-15               2011  \n",
       "2    2011-04-21               2011  "
      ]
     },
     "execution_count": 204,
     "metadata": {},
     "output_type": "execute_result"
    }
   ],
   "source": [
    "df_user_reviews.head(3)"
   ]
  },
  {
   "cell_type": "code",
   "execution_count": 205,
   "metadata": {},
   "outputs": [],
   "source": [
    "df_funcion5= pd.merge(df_user_reviews,df_steam_games,on='id_juego',how='left')"
   ]
  },
  {
   "cell_type": "code",
   "execution_count": 206,
   "metadata": {},
   "outputs": [],
   "source": [
    "df_funcion5=df_funcion5.loc[:,['user_id','id_juego','año_lanzamiento','sentiment_analysis']]"
   ]
  },
  {
   "cell_type": "code",
   "execution_count": 207,
   "metadata": {},
   "outputs": [],
   "source": [
    "df_funcion5.dropna(inplace=True)"
   ]
  },
  {
   "cell_type": "code",
   "execution_count": 208,
   "metadata": {},
   "outputs": [],
   "source": [
    "df_funcion5.to_csv('funcion5.csv',index=False)"
   ]
  },
  {
   "cell_type": "code",
   "execution_count": 209,
   "metadata": {},
   "outputs": [
    {
     "data": {
      "text/html": [
       "<div>\n",
       "<style scoped>\n",
       "    .dataframe tbody tr th:only-of-type {\n",
       "        vertical-align: middle;\n",
       "    }\n",
       "\n",
       "    .dataframe tbody tr th {\n",
       "        vertical-align: top;\n",
       "    }\n",
       "\n",
       "    .dataframe thead th {\n",
       "        text-align: right;\n",
       "    }\n",
       "</style>\n",
       "<table border=\"1\" class=\"dataframe\">\n",
       "  <thead>\n",
       "    <tr style=\"text-align: right;\">\n",
       "      <th></th>\n",
       "      <th>user_id</th>\n",
       "      <th>id_juego</th>\n",
       "      <th>año_lanzamiento</th>\n",
       "      <th>sentiment_analysis</th>\n",
       "    </tr>\n",
       "  </thead>\n",
       "  <tbody>\n",
       "    <tr>\n",
       "      <th>0</th>\n",
       "      <td>76561197970982479</td>\n",
       "      <td>1250</td>\n",
       "      <td>2009.0</td>\n",
       "      <td>2</td>\n",
       "    </tr>\n",
       "    <tr>\n",
       "      <th>1</th>\n",
       "      <td>76561197970982479</td>\n",
       "      <td>22200</td>\n",
       "      <td>2009.0</td>\n",
       "      <td>2</td>\n",
       "    </tr>\n",
       "    <tr>\n",
       "      <th>2</th>\n",
       "      <td>76561197970982479</td>\n",
       "      <td>22200</td>\n",
       "      <td>2009.0</td>\n",
       "      <td>2</td>\n",
       "    </tr>\n",
       "    <tr>\n",
       "      <th>5</th>\n",
       "      <td>js41637</td>\n",
       "      <td>227300</td>\n",
       "      <td>2013.0</td>\n",
       "      <td>0</td>\n",
       "    </tr>\n",
       "    <tr>\n",
       "      <th>6</th>\n",
       "      <td>js41637</td>\n",
       "      <td>227300</td>\n",
       "      <td>2013.0</td>\n",
       "      <td>0</td>\n",
       "    </tr>\n",
       "    <tr>\n",
       "      <th>...</th>\n",
       "      <td>...</td>\n",
       "      <td>...</td>\n",
       "      <td>...</td>\n",
       "      <td>...</td>\n",
       "    </tr>\n",
       "    <tr>\n",
       "      <th>107588</th>\n",
       "      <td>76561198239215706</td>\n",
       "      <td>730</td>\n",
       "      <td>2012.0</td>\n",
       "      <td>1</td>\n",
       "    </tr>\n",
       "    <tr>\n",
       "      <th>107589</th>\n",
       "      <td>wayfeng</td>\n",
       "      <td>730</td>\n",
       "      <td>2012.0</td>\n",
       "      <td>1</td>\n",
       "    </tr>\n",
       "    <tr>\n",
       "      <th>107590</th>\n",
       "      <td>76561198251004808</td>\n",
       "      <td>253980</td>\n",
       "      <td>2003.0</td>\n",
       "      <td>2</td>\n",
       "    </tr>\n",
       "    <tr>\n",
       "      <th>107591</th>\n",
       "      <td>72947282842</td>\n",
       "      <td>730</td>\n",
       "      <td>2012.0</td>\n",
       "      <td>0</td>\n",
       "    </tr>\n",
       "    <tr>\n",
       "      <th>107592</th>\n",
       "      <td>ApxLGhost</td>\n",
       "      <td>730</td>\n",
       "      <td>2012.0</td>\n",
       "      <td>2</td>\n",
       "    </tr>\n",
       "  </tbody>\n",
       "</table>\n",
       "<p>99027 rows × 4 columns</p>\n",
       "</div>"
      ],
      "text/plain": [
       "                  user_id  id_juego  año_lanzamiento  sentiment_analysis\n",
       "0       76561197970982479      1250           2009.0                   2\n",
       "1       76561197970982479     22200           2009.0                   2\n",
       "2       76561197970982479     22200           2009.0                   2\n",
       "5                 js41637    227300           2013.0                   0\n",
       "6                 js41637    227300           2013.0                   0\n",
       "...                   ...       ...              ...                 ...\n",
       "107588  76561198239215706       730           2012.0                   1\n",
       "107589            wayfeng       730           2012.0                   1\n",
       "107590  76561198251004808    253980           2003.0                   2\n",
       "107591        72947282842       730           2012.0                   0\n",
       "107592          ApxLGhost       730           2012.0                   2\n",
       "\n",
       "[99027 rows x 4 columns]"
      ]
     },
     "execution_count": 209,
     "metadata": {},
     "output_type": "execute_result"
    }
   ],
   "source": [
    "df_funcion5"
   ]
  },
  {
   "cell_type": "code",
   "execution_count": 210,
   "metadata": {},
   "outputs": [],
   "source": [
    "def sentiment_analysis( año : int ): # Según el año de lanzamiento, se devuelve una lista con la cantidad de registros de reseñas de usuarios que se encuentren categorizados con un análisis de sentimiento.\n",
    "    df_año=df_funcion5[df_funcion5['año_lanzamiento']==año]\n",
    "    positivos=0\n",
    "    negativos=0\n",
    "    neutros=0\n",
    "    for i in df_año['sentiment_analysis'].values:\n",
    "        if i==0:\n",
    "            negativos+=1\n",
    "        elif i==1:\n",
    "            neutros+=1\n",
    "        elif i==2:\n",
    "            positivos+=1\n",
    "\n",
    "    return {'Negative': negativos, 'Neutral': neutros,'Positive':positivos}\n",
    "\n",
    "# Ejemplo de retorno: {Negative = 182, Neutral = 120, Positive = 278}"
   ]
  },
  {
   "cell_type": "code",
   "execution_count": 211,
   "metadata": {},
   "outputs": [
    {
     "data": {
      "text/plain": [
       "{'Negative': 470, 'Neutral': 485, 'Positive': 1218}"
      ]
     },
     "execution_count": 211,
     "metadata": {},
     "output_type": "execute_result"
    }
   ],
   "source": [
    "sentiment_analysis(2009)"
   ]
  }
 ],
 "metadata": {
  "kernelspec": {
   "display_name": "proyecto-env",
   "language": "python",
   "name": "python3"
  },
  "language_info": {
   "codemirror_mode": {
    "name": "ipython",
    "version": 3
   },
   "file_extension": ".py",
   "mimetype": "text/x-python",
   "name": "python",
   "nbconvert_exporter": "python",
   "pygments_lexer": "ipython3",
   "version": "3.11.1"
  }
 },
 "nbformat": 4,
 "nbformat_minor": 2
}
